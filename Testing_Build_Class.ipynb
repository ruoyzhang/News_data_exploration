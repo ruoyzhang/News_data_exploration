{
 "cells": [
  {
   "cell_type": "code",
   "execution_count": 1,
   "metadata": {},
   "outputs": [],
   "source": [
    "from training_data_generation import Preprocess"
   ]
  },
  {
   "cell_type": "code",
   "execution_count": 6,
   "metadata": {},
   "outputs": [],
   "source": [
    "inp_data_path = '../Data/all-the-news/articles_1_0_preprocessed.pickle'\n",
    "res_data_path = '../Data/training_data/period0/'"
   ]
  },
  {
   "cell_type": "code",
   "execution_count": 7,
   "metadata": {},
   "outputs": [
    {
     "name": "stdout",
     "output_type": "stream",
     "text": [
      "building vocab...\n",
      "working on 3kth line\n",
      "build done\n",
      "converting corpus...\n",
      "working on 3kth line\n",
      "conversion done\n"
     ]
    }
   ],
   "source": [
    "preprocess = Preprocess(window=5, data_dir=res_data_path)\n",
    "preprocess.build(inp_data_path, 20000)\n",
    "preprocess.convert(inp_data_path)"
   ]
  },
  {
   "cell_type": "markdown",
   "metadata": {},
   "source": [
    "Success"
   ]
  },
  {
   "cell_type": "markdown",
   "metadata": {},
   "source": [
    "This is for period1"
   ]
  },
  {
   "cell_type": "code",
   "execution_count": 2,
   "metadata": {},
   "outputs": [],
   "source": [
    "inp_data_path = '../Data/all-the-news/articles_1_1_preprocessed.pickle'\n",
    "res_data_path = '../Data/training_data/period1/'"
   ]
  },
  {
   "cell_type": "code",
   "execution_count": 3,
   "metadata": {},
   "outputs": [
    {
     "name": "stdout",
     "output_type": "stream",
     "text": [
      "building vocab...\n",
      "working on 3kth line\n",
      "build done\n",
      "converting corpus...\n",
      "working on 3kth line\n",
      "conversion done\n"
     ]
    }
   ],
   "source": [
    "preprocess = Preprocess(window=5, data_dir=res_data_path)\n",
    "preprocess.build(inp_data_path, 20000)\n",
    "preprocess.convert(inp_data_path)"
   ]
  },
  {
   "cell_type": "code",
   "execution_count": null,
   "metadata": {},
   "outputs": [],
   "source": []
  }
 ],
 "metadata": {
  "kernelspec": {
   "display_name": "Python 3",
   "language": "python",
   "name": "python3"
  },
  "language_info": {
   "codemirror_mode": {
    "name": "ipython",
    "version": 3
   },
   "file_extension": ".py",
   "mimetype": "text/x-python",
   "name": "python",
   "nbconvert_exporter": "python",
   "pygments_lexer": "ipython3",
   "version": "3.6.4"
  }
 },
 "nbformat": 4,
 "nbformat_minor": 2
}
