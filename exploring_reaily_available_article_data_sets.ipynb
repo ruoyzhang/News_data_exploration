{
 "cells": [
  {
   "cell_type": "markdown",
   "metadata": {},
   "source": [
    "### loading in necessary packages"
   ]
  },
  {
   "cell_type": "code",
   "execution_count": 35,
   "metadata": {},
   "outputs": [],
   "source": [
    "import pandas as pd\n",
    "import numpy as np\n",
    "from collections import Counter\n",
    "from matplotlib import pyplot as plt\n",
    "from tqdm import tqdm\n",
    "\n",
    "data_path = '/Users/ruoyangzhang/Documents/PythonWorkingDirectory/news_exploration/Data/'"
   ]
  },
  {
   "cell_type": "code",
   "execution_count": 6,
   "metadata": {},
   "outputs": [],
   "source": [
    "data_1 = pd.read_csv(data_path+'all-the-news/articles1.csv')"
   ]
  },
  {
   "cell_type": "code",
   "execution_count": 7,
   "metadata": {},
   "outputs": [],
   "source": [
    "data_1 = data_1.drop(['Unnamed: 0'], axis = 1)"
   ]
  },
  {
   "cell_type": "code",
   "execution_count": 8,
   "metadata": {},
   "outputs": [
    {
     "data": {
      "text/plain": [
       "50000"
      ]
     },
     "execution_count": 8,
     "metadata": {},
     "output_type": "execute_result"
    }
   ],
   "source": [
    "len(data_1)"
   ]
  },
  {
   "cell_type": "code",
   "execution_count": 9,
   "metadata": {},
   "outputs": [
    {
     "data": {
      "text/html": [
       "<div>\n",
       "<style scoped>\n",
       "    .dataframe tbody tr th:only-of-type {\n",
       "        vertical-align: middle;\n",
       "    }\n",
       "\n",
       "    .dataframe tbody tr th {\n",
       "        vertical-align: top;\n",
       "    }\n",
       "\n",
       "    .dataframe thead th {\n",
       "        text-align: right;\n",
       "    }\n",
       "</style>\n",
       "<table border=\"1\" class=\"dataframe\">\n",
       "  <thead>\n",
       "    <tr style=\"text-align: right;\">\n",
       "      <th></th>\n",
       "      <th>id</th>\n",
       "      <th>title</th>\n",
       "      <th>publication</th>\n",
       "      <th>author</th>\n",
       "      <th>date</th>\n",
       "      <th>year</th>\n",
       "      <th>month</th>\n",
       "      <th>url</th>\n",
       "      <th>content</th>\n",
       "    </tr>\n",
       "  </thead>\n",
       "  <tbody>\n",
       "    <tr>\n",
       "      <th>0</th>\n",
       "      <td>17283</td>\n",
       "      <td>House Republicans Fret About Winning Their Hea...</td>\n",
       "      <td>New York Times</td>\n",
       "      <td>Carl Hulse</td>\n",
       "      <td>2016-12-31</td>\n",
       "      <td>2016.0</td>\n",
       "      <td>12.0</td>\n",
       "      <td>NaN</td>\n",
       "      <td>WASHINGTON  —   Congressional Republicans have...</td>\n",
       "    </tr>\n",
       "    <tr>\n",
       "      <th>1</th>\n",
       "      <td>17284</td>\n",
       "      <td>Rift Between Officers and Residents as Killing...</td>\n",
       "      <td>New York Times</td>\n",
       "      <td>Benjamin Mueller and Al Baker</td>\n",
       "      <td>2017-06-19</td>\n",
       "      <td>2017.0</td>\n",
       "      <td>6.0</td>\n",
       "      <td>NaN</td>\n",
       "      <td>After the bullet shells get counted, the blood...</td>\n",
       "    </tr>\n",
       "    <tr>\n",
       "      <th>2</th>\n",
       "      <td>17285</td>\n",
       "      <td>Tyrus Wong, ‘Bambi’ Artist Thwarted by Racial ...</td>\n",
       "      <td>New York Times</td>\n",
       "      <td>Margalit Fox</td>\n",
       "      <td>2017-01-06</td>\n",
       "      <td>2017.0</td>\n",
       "      <td>1.0</td>\n",
       "      <td>NaN</td>\n",
       "      <td>When Walt Disney’s “Bambi” opened in 1942, cri...</td>\n",
       "    </tr>\n",
       "    <tr>\n",
       "      <th>3</th>\n",
       "      <td>17286</td>\n",
       "      <td>Among Deaths in 2016, a Heavy Toll in Pop Musi...</td>\n",
       "      <td>New York Times</td>\n",
       "      <td>William McDonald</td>\n",
       "      <td>2017-04-10</td>\n",
       "      <td>2017.0</td>\n",
       "      <td>4.0</td>\n",
       "      <td>NaN</td>\n",
       "      <td>Death may be the great equalizer, but it isn’t...</td>\n",
       "    </tr>\n",
       "    <tr>\n",
       "      <th>4</th>\n",
       "      <td>17287</td>\n",
       "      <td>Kim Jong-un Says North Korea Is Preparing to T...</td>\n",
       "      <td>New York Times</td>\n",
       "      <td>Choe Sang-Hun</td>\n",
       "      <td>2017-01-02</td>\n",
       "      <td>2017.0</td>\n",
       "      <td>1.0</td>\n",
       "      <td>NaN</td>\n",
       "      <td>SEOUL, South Korea  —   North Korea’s leader, ...</td>\n",
       "    </tr>\n",
       "  </tbody>\n",
       "</table>\n",
       "</div>"
      ],
      "text/plain": [
       "      id                                              title     publication  \\\n",
       "0  17283  House Republicans Fret About Winning Their Hea...  New York Times   \n",
       "1  17284  Rift Between Officers and Residents as Killing...  New York Times   \n",
       "2  17285  Tyrus Wong, ‘Bambi’ Artist Thwarted by Racial ...  New York Times   \n",
       "3  17286  Among Deaths in 2016, a Heavy Toll in Pop Musi...  New York Times   \n",
       "4  17287  Kim Jong-un Says North Korea Is Preparing to T...  New York Times   \n",
       "\n",
       "                          author        date    year  month  url  \\\n",
       "0                     Carl Hulse  2016-12-31  2016.0   12.0  NaN   \n",
       "1  Benjamin Mueller and Al Baker  2017-06-19  2017.0    6.0  NaN   \n",
       "2                   Margalit Fox  2017-01-06  2017.0    1.0  NaN   \n",
       "3               William McDonald  2017-04-10  2017.0    4.0  NaN   \n",
       "4                  Choe Sang-Hun  2017-01-02  2017.0    1.0  NaN   \n",
       "\n",
       "                                             content  \n",
       "0  WASHINGTON  —   Congressional Republicans have...  \n",
       "1  After the bullet shells get counted, the blood...  \n",
       "2  When Walt Disney’s “Bambi” opened in 1942, cri...  \n",
       "3  Death may be the great equalizer, but it isn’t...  \n",
       "4  SEOUL, South Korea  —   North Korea’s leader, ...  "
      ]
     },
     "execution_count": 9,
     "metadata": {},
     "output_type": "execute_result"
    }
   ],
   "source": [
    "data_1.head()"
   ]
  },
  {
   "cell_type": "markdown",
   "metadata": {},
   "source": [
    "the dataset seemed rather simple, we may not be able to do any classification tasks on these, but we can surely test word2vec on them"
   ]
  },
  {
   "cell_type": "code",
   "execution_count": 12,
   "metadata": {},
   "outputs": [
    {
     "data": {
      "text/plain": [
       "id                 0\n",
       "title              0\n",
       "publication        0\n",
       "author          6306\n",
       "date               0\n",
       "year               0\n",
       "month              0\n",
       "url            50000\n",
       "content            0\n",
       "dtype: int64"
      ]
     },
     "execution_count": 12,
     "metadata": {},
     "output_type": "execute_result"
    }
   ],
   "source": [
    "# missing values\n",
    "data_1.isnull().sum()"
   ]
  },
  {
   "cell_type": "markdown",
   "metadata": {},
   "source": [
    "it seems as though the dataset is rather clean, we do not have many missing values other than the 'author column' wwhich over just over 10% missing and the URL column, which remains largely irrelevant for the purpose of this project\n",
    "\n",
    "We'll take a random look around the text it self"
   ]
  },
  {
   "cell_type": "code",
   "execution_count": 18,
   "metadata": {
    "collapsed": true
   },
   "outputs": [
    {
     "name": "stdout",
     "output_type": "stream",
     "text": [
      "’  ’ ”   WASHINGTON, DC  —   As the world adjusts to America’s  uncertainties   about what policies Donald Trump will pursue  —   toward North Korea   in particular  —   remain. ” ’   ”Trying to predict President Trump’’s policy toward Asia, or any   global region for that matter, is difficult if not   impossible,” Bruce Klingner, senior research fellow of   Northeast Asia at the Heritage Foundation, told Business Insider. ’ ’   ”We are in uncharted territory because Trump has not articulated   an Asian policy nor does he even have an identifiable cadre of   Asian advisors,” Klingner added. ’ ’   Echoing that sentiment, David Straub, former State   Department Korea director and associate director of the   Korea Program at Stanford University, told Business   Insider that Trump knows ”next to nothing” about the region. ’ ’   ”He didn’’t say very much about North Korea during the campaign,   and what he did say was incoherent,” Straub told   Business Insider. ’ ”   Notably, while on the campaign trail, Trump said he   would hold a summit with the North’s reckless leader Kim Jong Un   .  ” ’   ”It’’s clear he knows next to nothing about the area and the   problems there, and it will take him and his administration a   long time to get up to speed,” Straub said. ’ ’  ’ ’   ”I can’’t see Trump negotiating a denuclearization agreement with   North Korea,” Jeffrey Lewis, director of the East Asia   Nonproliferation Program at the   Middlebury   Institute of International Studies, told Business Insider. ’ ’   ”And after Libya and what I anticipate will be the collapse of   the agreement with Iran, I don’’t see any appetite in North Korea   either.” ’ ’   Trump also said he would remove US troops from   host nations throughout Asia and Europe if these countries   did not pay their share of the costs. ’ ’   Straub added that Trump should focus on North Korean threats   instead of ”complaining about how much our allies South Korea and   Japan are paying for the upkeep of US forces in their country.” ’ ’   ”The fact is that they already pay a great deal of those costs,   and that it would cost more to move them to the US than keep them   where they are, not to mention the fact that strategic stability   in Northeast Asia is very much in US interests as well as in the   interests of our allies,” Straub said. ’ ”   In regards to China, Pyongyang’s closest ally   and the region’s most powerful nation, Trump   has said he would pressure Chinese president Xi Jinping   to address North Korea’s nuclear ambitions. ” ’   ”Given Trump’’s statements on trade policy with China, it is   difficult to imagine how he can get China to do what he wants,”   Eric Gomez, a policy analyst for defense and foreign policy   studies at the Cato Institute, told Business Insider. ’ ’   ”Despite the instability North Korea causes, Beijing is willing   to keep supporting it so long as it can be a hedge against US   military power in the region. China probably has the best chance   of pressuring North Korea on the nuclear weapons issue, but right   now it’’s difficult to see how Trump would get Beijing to change   its current position,” Gomez added. ’ ’  ’ ’   Similarly, Melik Kaylan,   of ”,” says that Trump will   most likely be unable to adjust Beijing’’s stance. ’ ’   ”China uses North Korea as a lever to distract its regional   rivals,” Kaylan said. ”If Trump is true to his words, he will try   to confront China on a series of issues. China will play the   North Korea card.”  ’ ’   ”Trump will ultimately fall back on the alliances as they   exist,” Kaylan added. ’ ’   Straub notes that Trump may even follow the same policy carried   out by President Obama when dealing with North Korea. ’ ’   ”If Trump is guided by our government experts and institutions,   he will eventually follow roughly the same policy as President   Obama, i. e. ratchet up US and international pressure on North   Korea to give up nuclear weapons each time it commits a   provocation, at the same time bolstering our missile and other   defenses against the North and preparing for all manner of   contingencies,” Straub said. ’ ”   And while the current administration has   slapped Pyongyang with several rounds of   heavy sanctions, the Hermit Kingdom’s brazen rocket   launches and nuclear detonations continue. ” ’   ”This year, Pyongyang successfully conducted two nuclear tests,   an intercontinental ballistic missile test, breakthrough   successes with its     missile and     ballistic missile,   vehicle   technology, a new   rocket engine, and an improved     ICBM engine,” Klingner told Business Insider in   a previous interview. ’ ’  ’ ”   What’s more, during one week in October, the North   launched what are thought to be two Musudan     ballistic missiles  —   one on  and another on .  ” ’   ”This     stuff also suggests that they must have an   inventory of these things that they’’re willing and able to expend   to advance the program,” Thomas Karako, director of the   Missile Defense Project at the Center for Strategic and   International Studies, told Business Insider in a previous   interview. ’ ”   Hours after the aforementioned dual  US Secretary of Defense   Ash Carter met with South Korea’s minister of defense, Han Min   Koo, at the Pentagon. ” ’   ”Make no mistake, any attack on America or our allies will not   only be defeated, but any use of nuclear weapons will be met with   an overwhelming and effective response,” Carter said during the   press conference. ’ ’   ”The United States remains committed to defending our allies   against any threat with the full spectrum of American military   might,” Carter added. ’ ”   Looking to the future, experts agree that Trump’s policies will   not be known for many months after he transitions to the highest   office in the land. ” ’   ”North Korea will of course seek to use that time to its own   advantage, which will not be to ours,” Straub said. ’ ’   ”’’Bewilderment’’ and ’’uncertainty’’ will be the keywords for the   assessing the 2016 presidential election and the path ahead,”   Klingner said. ’\n",
      "------------------------------------------------------\n",
      " \n",
      "Wednesday night on CNN’s live coverage of protests in Los Angeles, CA, a protester of   Donald Trump identified as Lily said “people have to die. ”  Lily said, “If we don’t fight, then who will fight for us? People had to die for your freedom where we’re at today. We can’t just do rallies, we have to fight back. There will be casualties on both sides. There will be because people have to die to make a change in this world. Trump, enough with your racism. Stop splitting families. Don’t split my family. ” (  WFB) Follow Pam Key on Twitter @pamkeyNEN\n",
      "------------------------------------------------------\n",
      " \n",
      "TAIPEI, Taiwan  —   A high school parade in Taiwan in which students dressed as Nazi soldiers and carried swastika banners has created a storm of criticism in one of Asia’s most open societies. Hsinchu   High School in Hsinchu City held the parade, which focused on Adolf Hitler, as part of the school’s anniversary celebrations on Friday. The parade also featured cardboard tanks. The students chose the theme, according to local news reports. Photographs of the event spread quickly online, creating a backlash, with the unofficial diplomatic missions of Israel and Germany issuing letters of protest. The episode resulted in the resignation of the school’s principal, Cheng   this week. Mr. Cheng said that he took responsibility, adding that the primary issue was “our education’s problem,” according to local news reports. “It wasn’t necessarily a problem created by the children. ” Taiwanese textbooks, like those in other Asian countries, focus on fighting in Asia during World War II, resulting in lower awareness of events in Europe. In addition to the Israeli and German missions’ responses, the Chabad Taipei Jewish Center also issued a statement expressing regret about “the use of Nazi imagery and logos by students in Taiwan, as it reopens historical wounds suffered by the Jewish people. ” Ross Feingold, chairman of the center, said that many people in Taiwan were unaware that there were more than 1, 000 Jews living among them, many of them   residents with businesses or investments on the island. “Certainly it’s not meant to be an act of ” Mr. Feingold said. “Holocaust education is extremely limited here. ” The parade in Hsinchu is not the first incident in which Nazi references have offended Jews and other groups in Taiwan. In 1999, an advertisement for   DBK space heaters in Taiwan featured a smiling Hitler with the caption, “Declare war on the cold front!” The next year, a restaurant with a concentration camp theme opened, closing weeks after it became a source of outrage. In 2001, the governing Democratic Progressive Party created a television advertisement contrasting Hitler with John F. Kennedy and other leaders, which the party modified after protests from the Israel Economic and Cultural Office in Taipei and others. Officials at the school, which is private but receives subsidies from Taiwan’s Ministry of Education, have said they will show their students movies such as “Schindler’s List” to better educate them on the atrocities of the Holocaust. “A   showing of a movie is not a sustainable program,” Mr. Feingold said. “What is more sustainable is reaching out to the Jewish community that lives here in Taiwan, many of whom have relatives who died in or survived the Holocaust. ”\n",
      "------------------------------------------------------\n",
      " \n",
      "’ ’ ’ ’ ’’\n",
      "------------------------------------------------------\n",
      " \n",
      "Assuming Senate Democrats cannot torpedo his confirmation, Neil Gorsuch will be a welcome addition to a   Supreme Court often divided over questions of policing, law enforcement, and criminal justice. [The Court’s four liberals —  Justices Ginsberg, Breyer, Sotomayor and Kagan too often think of themselves as super legislators rather than judges when they do their opinions reflect their personal proclivities rather than the strict letter of the law. Not so Neil Gorsuch, who prides himself on deciding cases based on the law rather than the outcome he would prefer. In his remarks at the White House, when President Trump nominated him, he said that “A judge who likes every outcome he reaches is very likely a bad judge, stretching for results he prefers rather than those the law demands. ”  Gorsuch may not have been accusing the four SCOTUS liberals of being bad judges —  he is too polite to do that —  but his remarks set him far apart from the ideal liberal judge, who cares little about what the law says, but instead cares a lot about the outcome and its impact on his favorite issues and perceived victims. Liberals’ view of judging was confirmed in a letter to the Senate Judiciary Committee released this week, when some 100 liberal organizations predictably demanded that Gorsuch not be confirmed because he is not sufficiently sympathetic to “workers’ rights, immigration, women’s health, LGBT rights, police misconduct, students with disabilities, corporate bias, money in politics, environmental protection and voting rights. ” Which is exactly Gorsuch’s point: treat everybody equally under the law, regardless of who they are, and don’t go beyond what the written law provides. A review of opinions Gorsuch as written or joined while on the 10th Circuit Court of Appeals in Denver, together with speeches he has given, indicates that as a Supreme Court justice, he would likely be admired by the law enforcement community. Not because he is “ ” or “  offender,” but because he would be “ . ” In other words, law enforcement will likely approve of his jurisprudence more for what he is not than what he is —  and what he is not is why the liberals don’t think he should be confirmed. That is, he rules predictably, according to the law, rather than trying to favor those the liberals think need an advocate. That is also not to say that he will be a   inalterably strident         justice. His Tenth Circuit opinions include cases where he ruled in favor of police officers, and cases where he ruled against them who, for whatever reason, deserved being ruled against. First, Gorsuch believes that there are far too many laws —  5, 000 or so “with hundreds of new statutory crimes inked every few years,” as he told the Federalist Society in 2013, which, he said “does not begin to count the thousands of additional regulatory crimes buried in the federal register. There are so many crimes cowled in the numbering fine print of those pages that scholars actually debate their number. ” Reform of the criminal code is a job for Congress, not the Court, but intelligent critique from a thoughtful Justice might inspire somebody on the Hill to get started with the project. Gorsuch’s critique of the criminal justice system seems confined to the above point rather than the left’s view that the system is laden with racism and that the police tend to disproportionately arrest minorities, the poor and minor drug offenders, resulting in what liberals refer to as “mass incarceration. ” It is on this point that the left will focus its opposition to his confirmation, among others. In an early critique of his record, for example, People for the American Way wrote that “at a time when the abuses of our criminal justice system are becoming a national crisis, we cannot confirm a justice who does not understand the role of the Supreme Court to protect the most vulnerable among us. ” Gorsuch may be bad news for People for the American Way, but he is good news for law enforcement. Second, Gorsuch has a solid record on    cases, an issue often addressed by the courts he generally, but not always, takes a   enforcement position. In a 2013 case, he sided in the majority in a   split, finding the use of a Taser resulting in the death of an offender was a reasonable use of force under the circumstances. In an earlier case, in 2006, Gorsuch, in a dissent in an en banc civil    case against an officer, in which he was joined by four other judges, asked whether any use of force, no matter how slight, might result in a finding that the force was excessive. But by no means did he always rule on the side of the police —  in at least two other cases, he found the use of force was excessive and that the officers in question were not entitled to qualified immunity. In another   case involving a   kid who kept his class amused by forcing air into his stomach and producing loud burps —  much to the annoyance of his teacher —  Gorsuch dissented from the ruling, finding the police were immune from a civil suit when they arrested and detained him, writing that the teacher went overboard by failing to properly discipline the child and had him arrested by police. A 2012 case is a good indicator of Gorsuch’s strong conviction that criminal laws should not be interpreted in such a way as to jeopardize innocent conduct, just because that conduct can be squeezed between the words of a statute. The case in question involved a felon charged with possessing a gun in violation of a statute which prohibits the “knowing” possession of a firearm by a felon. Gorsuch, in his opinion, reminds us that plenty of minor crimes may technically involve felony convictions even if no jail time is included, so that the convicted defendant may not know he was guilty of a felony. “There can be fewer graver injustices,” wrote Gorsuch, “in a society governed by the rule of law than imprisoning a man without requiring proof of his guilt under the written laws of the land. Yet that is what Capps (the precedent relied on by the prosecutor) permits, excusing the government from proving an essential element of the crime Congress recognized. ” Even if Gorsuch’s narrow reading of the criminal law is sometimes more favorable to the criminal defendant than the prosecutor, those in the criminal justice and law enforcement communities will find his approach a refreshing, and consistent, change from the liberal view that the law should be read more as the judge wishes it had been written, or even by finding some obscure reasoning in the legislative history, or a comment from a member of the legislature that enacted it, giving it a broader interpretation than the written words.\n",
      "------------------------------------------------------\n",
      " \n"
     ]
    }
   ],
   "source": [
    "for article in np.random.choice(data_1.content, 5):\n",
    "    print(article)\n",
    "    print('------------------------------------------------------')\n",
    "    print(' ')"
   ]
  },
  {
   "cell_type": "markdown",
   "metadata": {},
   "source": [
    "We ran the above lines a few times and based on initial inspection, the text data also seems incredibly clean (this is great)\n",
    "\n",
    "We take a look at the publication date"
   ]
  },
  {
   "cell_type": "code",
   "execution_count": 36,
   "metadata": {},
   "outputs": [
    {
     "name": "stderr",
     "output_type": "stream",
     "text": [
      "100%|██████████| 983/983 [00:00<00:00, 656633.35it/s]\n"
     ]
    }
   ],
   "source": [
    "counter_obj = Counter(data_1.date)\n",
    "new_counter_obj = {}\n",
    "for k,v in tqdm(counter_obj.items()):\n",
    "    if k[:4] not in new_counter_obj.keys():\n",
    "        new_counter_obj[k[:4]] = v\n",
    "    else:\n",
    "        new_counter_obj[k[:4]] += v"
   ]
  },
  {
   "cell_type": "code",
   "execution_count": 37,
   "metadata": {},
   "outputs": [
    {
     "data": {
      "text/plain": [
       "{'2011': 1,\n",
       " '2012': 26,\n",
       " '2013': 212,\n",
       " '2014': 76,\n",
       " '2015': 3326,\n",
       " '2016': 28451,\n",
       " '2017': 17908}"
      ]
     },
     "execution_count": 37,
     "metadata": {},
     "output_type": "execute_result"
    }
   ],
   "source": [
    "new_counter_obj"
   ]
  },
  {
   "cell_type": "code",
   "execution_count": 42,
   "metadata": {},
   "outputs": [
    {
     "data": {
      "image/png": "[encoded data removed]",
      "text/plain": [
       "<matplotlib.figure.Figure at 0x119e99668>"
      ]
     },
     "metadata": {},
     "output_type": "display_data"
    }
   ],
   "source": [
    "sorted_dates = sorted([key[:4] for key in new_counter_obj.keys()])\n",
    "plt.bar(range(len(new_counter_obj)), [new_counter_obj[key] for key in sorted_dates], align = 'center') \n",
    "plt.xticks(range(len(new_counter_obj)), sorted_dates)\n",
    "plt.show()"
   ]
  },
  {
   "cell_type": "markdown",
   "metadata": {},
   "source": [
    "it seems as though we can perhaps look at data from 2016 and 2017 for the purpose of the project, since we aim to repartition the date into smaller time intervals (such as month)\n",
    "\n",
    "for the sake of complete inspection, we look at the other 2 sets"
   ]
  },
  {
   "cell_type": "code",
   "execution_count": 48,
   "metadata": {},
   "outputs": [],
   "source": [
    "def inspect_yearly_distribution(data):\n",
    "    counter_obj = Counter(data.date)\n",
    "    new_counter_obj = {}\n",
    "    for k,v in tqdm(counter_obj.items()):\n",
    "        if k[:4] not in new_counter_obj.keys():\n",
    "            new_counter_obj[k[:4]] = v\n",
    "        else:\n",
    "            new_counter_obj[k[:4]] += v\n",
    "        \n",
    "    sorted_dates = sorted([key[:4] for key in new_counter_obj.keys()])\n",
    "    plt.bar(range(len(new_counter_obj)), [new_counter_obj[key] for key in sorted_dates], align = 'center') \n",
    "    plt.xticks(range(len(new_counter_obj)), sorted_dates)\n",
    "    plt.show()"
   ]
  },
  {
   "cell_type": "code",
   "execution_count": 50,
   "metadata": {},
   "outputs": [
    {
     "name": "stderr",
     "output_type": "stream",
     "text": [
      "\r",
      " 23%|██▎       | 135/598 [00:30<01:44,  4.44it/s]"
     ]
    }
   ],
   "source": [
    "data_2 = pd.read_csv(data_path+'all-the-news/articles2.csv')\n",
    "data_3 = pd.read_csv(data_path+'all-the-news/articles3.csv')"
   ]
  },
  {
   "cell_type": "code",
   "execution_count": 51,
   "metadata": {},
   "outputs": [],
   "source": [
    "data_2 = data_2.drop(['Unnamed: 0'], axis = 1)\n",
    "data_3 = data_3.drop(['Unnamed: 0'], axis = 1)"
   ]
  },
  {
   "cell_type": "code",
   "execution_count": 53,
   "metadata": {},
   "outputs": [
    {
     "data": {
      "text/plain": [
       "id                0\n",
       "title             1\n",
       "publication       0\n",
       "author         8598\n",
       "date           2626\n",
       "year           2626\n",
       "month          2626\n",
       "url            7011\n",
       "content           0\n",
       "dtype: int64"
      ]
     },
     "execution_count": 53,
     "metadata": {},
     "output_type": "execute_result"
    }
   ],
   "source": [
    "data_2.isnull().sum()"
   ]
  },
  {
   "cell_type": "code",
   "execution_count": 54,
   "metadata": {
    "collapsed": true
   },
   "outputs": [
    {
     "data": {
      "text/plain": [
       "id               0\n",
       "title            1\n",
       "publication      0\n",
       "author         972\n",
       "date            15\n",
       "year            15\n",
       "month           15\n",
       "url              0\n",
       "content          0\n",
       "dtype: int64"
      ]
     },
     "execution_count": 54,
     "metadata": {},
     "output_type": "execute_result"
    }
   ],
   "source": [
    "data_3.isnull().sum()"
   ]
  },
  {
   "cell_type": "markdown",
   "metadata": {},
   "source": [
    "We seemed to have quite a fez missing dates in the second set, we drop the missing values using the 'date' column for both datasets"
   ]
  },
  {
   "cell_type": "code",
   "execution_count": 69,
   "metadata": {},
   "outputs": [],
   "source": [
    "data_2 = data_2.dropna(subset=['date']).reset_index(drop = True)\n",
    "data_3 = data_3.dropna(subset=['date']).reset_index(drop = True)"
   ]
  },
  {
   "cell_type": "code",
   "execution_count": 65,
   "metadata": {},
   "outputs": [
    {
     "name": "stderr",
     "output_type": "stream",
     "text": [
      "\n",
      "  0%|          | 0/597 [00:00<?, ?it/s]\u001b[A\n",
      "100%|██████████| 597/597 [00:00<00:00, 389970.33it/s]\u001b[A"
     ]
    },
    {
     "data": {
      "image/png": "[encoded data removed]",
      "text/plain": [
       "<matplotlib.figure.Figure at 0x119ec5cf8>"
      ]
     },
     "metadata": {},
     "output_type": "display_data"
    }
   ],
   "source": [
    "inspect_yearly_distribution(data_2)"
   ]
  },
  {
   "cell_type": "code",
   "execution_count": 70,
   "metadata": {},
   "outputs": [
    {
     "name": "stderr",
     "output_type": "stream",
     "text": [
      "\n",
      "  0%|          | 0/1236 [00:00<?, ?it/s]\u001b[A\n",
      "100%|██████████| 1236/1236 [00:00<00:00, 675724.68it/s]\u001b[A"
     ]
    },
    {
     "data": {
      "image/png": "[encoded data removed]",
      "text/plain": [
       "<matplotlib.figure.Figure at 0x111fc0080>"
      ]
     },
     "metadata": {},
     "output_type": "display_data"
    }
   ],
   "source": [
    "inspect_yearly_distribution(data_3)"
   ]
  },
  {
   "cell_type": "code",
   "execution_count": 71,
   "metadata": {},
   "outputs": [],
   "source": [
    "sets = [data_1, data_2, data_3]\n",
    "total_len = 0\n",
    "for data in sets:\n",
    "    total_len += sum([int(date[:4])==2016 for date in data.date])"
   ]
  },
  {
   "cell_type": "code",
   "execution_count": 73,
   "metadata": {},
   "outputs": [
    {
     "data": {
      "text/plain": [
       "(7117.083333333333, 1779.2708333333333, 233.986301369863)"
      ]
     },
     "execution_count": 73,
     "metadata": {},
     "output_type": "execute_result"
    }
   ],
   "source": [
    "total_len/12, total_len/12/4, total_len/365"
   ]
  },
  {
   "cell_type": "markdown",
   "metadata": {},
   "source": [
    "We have roughly:\n",
    "    \n",
    "    7.1k articles per month\n",
    "    \n",
    "    1.8k articles per week\n",
    "    \n",
    "    0.23k articles per day"
   ]
  },
  {
   "cell_type": "code",
   "execution_count": null,
   "metadata": {},
   "outputs": [],
   "source": []
  }
 ],
 "metadata": {
  "kernelspec": {
   "display_name": "Python 3",
   "language": "python",
   "name": "python3"
  },
  "language_info": {
   "codemirror_mode": {
    "name": "ipython",
    "version": 3
   },
   "file_extension": ".py",
   "mimetype": "text/x-python",
   "name": "python",
   "nbconvert_exporter": "python",
   "pygments_lexer": "ipython3",
   "version": "3.6.4"
  }
 },
 "nbformat": 4,
 "nbformat_minor": 2
}
