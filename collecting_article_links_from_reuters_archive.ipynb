{
 "cells": [
  {
   "cell_type": "markdown",
   "metadata": {},
   "source": [
    "Importing necessary packages"
   ]
  },
  {
   "cell_type": "code",
   "execution_count": 16,
   "metadata": {},
   "outputs": [],
   "source": [
    "from newspaper import Article\n",
    "import datetime\n",
    "from tqdm import tqdm\n",
    "from bs4 import BeautifulSoup\n",
    "import requests\n",
    "import re\n",
    "from tqdm import tqdm\n",
    "from multiprocessing import Pool\n",
    "import pickle\n",
    "\n",
    "data_path = '/Users/ruoyangzhang/Documents/PythonWorkingDirectory/news_exploration/Data/'"
   ]
  },
  {
   "cell_type": "markdown",
   "metadata": {},
   "source": [
    "Testing on one article"
   ]
  },
  {
   "cell_type": "code",
   "execution_count": 2,
   "metadata": {},
   "outputs": [],
   "source": [
    "url = 'https://www.reuters.com/article/baseball-mlb-kc-ari-recap/rookie-ohearn-drives-in-4-as-royals-club-orioles-idUSMTZEE91CX32WR'\n",
    "article = Article(url)"
   ]
  },
  {
   "cell_type": "code",
   "execution_count": 3,
   "metadata": {},
   "outputs": [],
   "source": [
    "article.download()"
   ]
  },
  {
   "cell_type": "code",
   "execution_count": 4,
   "metadata": {},
   "outputs": [],
   "source": [
    "article.parse()"
   ]
  },
  {
   "cell_type": "code",
   "execution_count": 5,
   "metadata": {},
   "outputs": [
    {
     "data": {
      "text/plain": [
       "['Reuters Editorial', 'Min Read']"
      ]
     },
     "execution_count": 5,
     "metadata": {},
     "output_type": "execute_result"
    }
   ],
   "source": [
    "article.authors"
   ]
  },
  {
   "cell_type": "code",
   "execution_count": 6,
   "metadata": {},
   "outputs": [
    {
     "data": {
      "text/plain": [
       "datetime.datetime(2018, 9, 1, 3, 53, 15, tzinfo=tzutc())"
      ]
     },
     "execution_count": 6,
     "metadata": {},
     "output_type": "execute_result"
    }
   ],
   "source": [
    "article.publish_date"
   ]
  },
  {
   "cell_type": "code",
   "execution_count": 7,
   "metadata": {
    "collapsed": true
   },
   "outputs": [
    {
     "data": {
      "text/plain": [
       "'EditorsNote: fixes Kansas City’s road record in fifth graf\\n\\nKansas City first baseman Ryan O’Hearn homered and drove in four runs, and Hunter Dozier and Cam Gallagher also homered to lead the Royals to a 9-2 victory over the visiting Baltimore Orioles on Friday at Kauffman Stadium.\\n\\nWhit Merrifield had two hits and scored three times, O’Hearn collected three hits, and Adalberto Mondesi, Gallagher and Dozier each had two of the Royals’ 14 hits.\\n\\nRight-hander Brad Keller (7-5) won his third consecutive decision for the Royals, who won for the fifth time in six games. The Royals have scored at least five runs in six straight games for the first time since 2016.\\n\\nRookie center fielder Cedric Mullins had two of Baltimore’s four hits, including a game-opening homer, as the Orioles had their three-game winning streak broken.\\n\\nThe Royals (43-91) and Orioles (40-95) have the two worst records in the majors. Kansas City has the worst home record in the majors at 23-45, and Baltimore has the worst road record, 16-51.\\n\\nKeller, a rookie, gave up four hits and two runs with four strikeouts and two walks. He tied a career high by going eight innings.\\n\\nMerrifield also drove in a run, and he extended his on-base streak to 20 games with a first-inning double. He is 28-for-77 (.364) in that stretch, with eight extra-base hits and 11 RBIs.\\n\\nBaltimore right-hander Andrew Cashner (4-13) gave up nine hits and four runs in 5 1/3 innings, with one strikeout and three walks. He is one three Orioles pitchers with at least 13 losses.\\n\\nMullins, who also doubled, hit the second pitch of the game for his third homer of the season. The rookie is hitting .317 with nine extra-base hits, including six doubles, since his Aug. 10 debut.\\n\\nThe Royals tied it at 1 in their half of the first when Merrifield doubled, took third on Alex Gordon’s single and scored when Dozier grounded into a double play.\\n\\nMerrifield hit a sacrifice fly for a 2-1 lead in the fourth inning after the Royals loaded the bases on two walks and a single by Brett Phillips. Dozier homered in the fifth before Mullins doubled and scored on Trey Mancini’s sacrifice fly to make it 3-2 in the sixth.\\n\\nGallagher homered with one out in the bottom of the sixth, and O’Hearn’s two-run single drove in Merrifield and Dozier to cap a three-run inning. Gallagher was recalled from Triple-A Omaha before the game after the Royals traded Drew Butera to Colorado.\\n\\nO’Hearn’s three-run homer capped a four-run eighth inning.\\n\\n—Field Level Media'"
      ]
     },
     "execution_count": 7,
     "metadata": {},
     "output_type": "execute_result"
    }
   ],
   "source": [
    "article.text"
   ]
  },
  {
   "cell_type": "markdown",
   "metadata": {},
   "source": [
    "This works rather well, let's test now how to systematically get all the urls ready in a structured manner"
   ]
  },
  {
   "cell_type": "markdown",
   "metadata": {},
   "source": [
    "date_accumulator_dt = datetime.date(2017, 1, 1)\n",
    "begin_date_dt = date_accumulator_dt\n",
    "max_date = 20180915\n",
    "max_date_dt = datetime.date(int(str(max_date)[:4]), int(str(max_date)[4:6]), int(str(max_date)[6:]))\n",
    "res_holder = {}\n",
    "\n",
    "for i in tqdm(range(int(int((max_date_dt - begin_date_dt).days)))):\n",
    "    date_accumulator_dt = date_accumulator_dt + datetime.timedelta(days = 1)\n",
    "    date_accumulator = int(date_accumulator_dt.strftime('%Y%m%d'))\n",
    "    #insert from here on scraping mechanism"
   ]
  },
  {
   "cell_type": "code",
   "execution_count": 2,
   "metadata": {},
   "outputs": [],
   "source": [
    "page = requests.get('https://www.reuters.com/resources/archive/us/')"
   ]
  },
  {
   "cell_type": "markdown",
   "metadata": {},
   "source": [
    "#### we still need to systematically extract the specific article links"
   ]
  },
  {
   "cell_type": "markdown",
   "metadata": {},
   "source": [
    "Extract links for specific years"
   ]
  },
  {
   "cell_type": "code",
   "execution_count": 3,
   "metadata": {},
   "outputs": [],
   "source": [
    "soup = BeautifulSoup(page.content, 'html.parser')"
   ]
  },
  {
   "cell_type": "code",
   "execution_count": 4,
   "metadata": {},
   "outputs": [],
   "source": [
    "links = [link['href'] for link in soup.find_all(href = True) if bool(re.search('/resources/archive/us/20', link['href'])) and len(link['href'].split('.')[-2].split('/')[-1]) == 4]"
   ]
  },
  {
   "cell_type": "code",
   "execution_count": 5,
   "metadata": {},
   "outputs": [],
   "source": [
    "# completing the links\n",
    "links = ['https://www.reuters.com' + link for link in links]"
   ]
  },
  {
   "cell_type": "code",
   "execution_count": 6,
   "metadata": {
    "collapsed": true
   },
   "outputs": [
    {
     "data": {
      "text/plain": [
       "['https://www.reuters.com/resources/archive/us/2007.html',\n",
       " 'https://www.reuters.com/resources/archive/us/2008.html',\n",
       " 'https://www.reuters.com/resources/archive/us/2009.html',\n",
       " 'https://www.reuters.com/resources/archive/us/2010.html',\n",
       " 'https://www.reuters.com/resources/archive/us/2011.html',\n",
       " 'https://www.reuters.com/resources/archive/us/2012.html',\n",
       " 'https://www.reuters.com/resources/archive/us/2013.html',\n",
       " 'https://www.reuters.com/resources/archive/us/2014.html',\n",
       " 'https://www.reuters.com/resources/archive/us/2015.html',\n",
       " 'https://www.reuters.com/resources/archive/us/2016.html',\n",
       " 'https://www.reuters.com/resources/archive/us/2017.html']"
      ]
     },
     "execution_count": 6,
     "metadata": {},
     "output_type": "execute_result"
    }
   ],
   "source": [
    "links"
   ]
  },
  {
   "cell_type": "markdown",
   "metadata": {},
   "source": [
    "Now we proceed to extract the aggregated article links in the specific pages"
   ]
  },
  {
   "cell_type": "code",
   "execution_count": 7,
   "metadata": {},
   "outputs": [
    {
     "name": "stderr",
     "output_type": "stream",
     "text": [
      "100%|██████████| 11/11 [00:04<00:00,  2.26it/s]\n"
     ]
    }
   ],
   "source": [
    "aggregated_article_links = []\n",
    "for link in tqdm(links):\n",
    "    page_date = requests.get(link)\n",
    "    soup_date = BeautifulSoup(page_date.content, 'html.parser')\n",
    "    links_date = [link['href'] for link in soup_date.find_all(href = True) if bool(re.search('/resources/archive/us/20', link['href'])) and len(link['href'].split('.')[-2].split('/')[-1]) > 4]\n",
    "    aggregated_article_links.extend(links_date)"
   ]
  },
  {
   "cell_type": "code",
   "execution_count": 8,
   "metadata": {},
   "outputs": [],
   "source": [
    "# completing the links\n",
    "aggregated_article_links = ['https://www.reuters.com' + link for link in aggregated_article_links]"
   ]
  },
  {
   "cell_type": "markdown",
   "metadata": {},
   "source": [
    "Now we extract the article links, we will ignore the non text articles, such as videos"
   ]
  },
  {
   "cell_type": "code",
   "execution_count": 9,
   "metadata": {},
   "outputs": [],
   "source": [
    "def article_link_extraction(link):\n",
    "    page_article = requests.get(link)\n",
    "    soup_article =  BeautifulSoup(page_article.content, 'html.parser')\n",
    "    article_links = [link['href'] for link in soup_article.find_all(href = True) if 'article' in link['href'].split('/')]\n",
    "    return(article_links)"
   ]
  },
  {
   "cell_type": "code",
   "execution_count": 10,
   "metadata": {},
   "outputs": [
    {
     "name": "stderr",
     "output_type": "stream",
     "text": [
      "100%|██████████| 3653/3653 [15:49<00:00,  3.85it/s]\n"
     ]
    }
   ],
   "source": [
    "p = Pool(8, maxtasksperchild=1)\n",
    "extraction_res = p.map(article_link_extraction, tqdm(aggregated_article_links))\n",
    "p.close()"
   ]
  },
  {
   "cell_type": "code",
   "execution_count": 11,
   "metadata": {},
   "outputs": [],
   "source": [
    "article_links = [item for sublist in extraction_res for item in sublist]"
   ]
  },
  {
   "cell_type": "code",
   "execution_count": 25,
   "metadata": {},
   "outputs": [],
   "source": [
    "article_links = list(set(article_links))"
   ]
  },
  {
   "cell_type": "markdown",
   "metadata": {},
   "source": [
    "We save the links for later use"
   ]
  },
  {
   "cell_type": "code",
   "execution_count": 26,
   "metadata": {},
   "outputs": [],
   "source": [
    "with open(data_path+'article_links.pickle', 'wb') as handle:\n",
    "    pickle.dump(article_links, handle, protocol=pickle.HIGHEST_PROTOCOL)"
   ]
  },
  {
   "cell_type": "code",
   "execution_count": 27,
   "metadata": {},
   "outputs": [
    {
     "data": {
      "text/plain": [
       "8103561"
      ]
     },
     "execution_count": 27,
     "metadata": {},
     "output_type": "execute_result"
    }
   ],
   "source": [
    "len(article_links)"
   ]
  },
  {
   "cell_type": "markdown",
   "metadata": {},
   "source": [
    "We have collected 8 million article links"
   ]
  }
 ],
 "metadata": {
  "kernelspec": {
   "display_name": "Python 3",
   "language": "python",
   "name": "python3"
  },
  "language_info": {
   "codemirror_mode": {
    "name": "ipython",
    "version": 3
   },
   "file_extension": ".py",
   "mimetype": "text/x-python",
   "name": "python",
   "nbconvert_exporter": "python",
   "pygments_lexer": "ipython3",
   "version": "3.6.4"
  }
 },
 "nbformat": 4,
 "nbformat_minor": 2
}
