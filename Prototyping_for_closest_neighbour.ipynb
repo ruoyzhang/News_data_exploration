{
 "cells": [
  {
   "cell_type": "code",
   "execution_count": 1,
   "metadata": {},
   "outputs": [],
   "source": [
    "import pickle\n",
    "import numpy as np"
   ]
  },
  {
   "cell_type": "code",
   "execution_count": 2,
   "metadata": {},
   "outputs": [],
   "source": [
    "data_dir_1 = '/home/paperspace/projects/news_exploration/Data/training_data/period1/'\n",
    "data_dir_0 = '/home/paperspace/projects/news_exploration/Data/training_data/period0/'"
   ]
  },
  {
   "cell_type": "code",
   "execution_count": 16,
   "metadata": {},
   "outputs": [],
   "source": [
    "with open(data_dir_0 +'word2idx.dat', 'rb') as handle:\n",
    "    word2idx_0 = pickle.load(handle)\n",
    "with open(data_dir_1 +'word2idx.dat', 'rb') as handle:\n",
    "    word2idx_1 = pickle.load(handle)"
   ]
  },
  {
   "cell_type": "code",
   "execution_count": 17,
   "metadata": {},
   "outputs": [],
   "source": [
    "with open(data_dir_0 +'idx2word.dat', 'rb') as handle:\n",
    "    idx2word_0 = pickle.load(handle)\n",
    "with open(data_dir_1 +'idx2word.dat', 'rb') as handle:\n",
    "    idx2word_1 = pickle.load(handle)"
   ]
  },
  {
   "cell_type": "code",
   "execution_count": 18,
   "metadata": {},
   "outputs": [],
   "source": [
    "with open(data_dir_0 +'idx2vec.dat', 'rb') as handle:\n",
    "    idx2vec_0 = pickle.load(handle)\n",
    "with open(data_dir_1 +'idx2vec.dat', 'rb') as handle:\n",
    "    idx2vec_1 = pickle.load(handle)"
   ]
  },
  {
   "cell_type": "code",
   "execution_count": 24,
   "metadata": {},
   "outputs": [],
   "source": [
    "class similar_words:\n",
    "    \n",
    "    def __init__(self, data_dir):\n",
    "        with open(data_dir + 'word2idx.dat', 'rb') as handle:\n",
    "            self.word2idx = pickle.load(handle)\n",
    "        with open(data_dir + 'idx2word.dat', 'rb') as handle:\n",
    "            self.idx2word = pickle.load(handle)\n",
    "        with open(data_dir + 'idx2vec.dat', 'rb') as handle:\n",
    "            self.idx2vec = pickle.load(handle)\n",
    "    \n",
    "    def normalise(self):\n",
    "        l2_norm = np.sqrt((self.idx2vec * self.idx2vec).sum(axis = 1)).reshape(self.idx2vec.shape[0],1)\n",
    "        self.n_idx2vec = self.idx2vec/l2_norm\n",
    "        \n",
    "    \n",
    "    #def closest_neighbour(word, n = 10):\n",
    "        "
   ]
  },
  {
   "cell_type": "code",
   "execution_count": 25,
   "metadata": {},
   "outputs": [],
   "source": [
    "test = similar_words(data_dir_0)"
   ]
  },
  {
   "cell_type": "code",
   "execution_count": 26,
   "metadata": {},
   "outputs": [
    {
     "name": "stderr",
     "output_type": "stream",
     "text": [
      "/home/paperspace/anaconda3/envs/fastai/lib/python3.6/site-packages/ipykernel_launcher.py:13: RuntimeWarning: invalid value encountered in true_divide\n",
      "  del sys.path[0]\n"
     ]
    }
   ],
   "source": [
    "test.normalise()"
   ]
  },
  {
   "cell_type": "code",
   "execution_count": 27,
   "metadata": {},
   "outputs": [],
   "source": [
    "img_dict = test.n_idx2vec"
   ]
  },
  {
   "cell_type": "code",
   "execution_count": 29,
   "metadata": {},
   "outputs": [],
   "source": [
    "img_dict[0] = np.array([0]*300)"
   ]
  },
  {
   "cell_type": "code",
   "execution_count": 61,
   "metadata": {},
   "outputs": [],
   "source": [
    "with open('/home/paperspace/projects/news_exploration/Data/all-the-news/' + 'articles_1_0_preprocessed.pickle', 'rb') as handle:\n",
    "    articles = pickle.load(handle)"
   ]
  },
  {
   "cell_type": "code",
   "execution_count": 62,
   "metadata": {},
   "outputs": [],
   "source": [
    "article1 = articles[1]"
   ]
  },
  {
   "cell_type": "code",
   "execution_count": 63,
   "metadata": {},
   "outputs": [],
   "source": [
    "def return_idx(word):\n",
    "    if word in word2idx_0.keys():\n",
    "        return(word2idx_0[word])\n",
    "    else:\n",
    "        return(0)"
   ]
  },
  {
   "cell_type": "code",
   "execution_count": 64,
   "metadata": {},
   "outputs": [],
   "source": [
    "article1_tok = [return_idx(word) for word in article1]"
   ]
  },
  {
   "cell_type": "code",
   "execution_count": 65,
   "metadata": {},
   "outputs": [],
   "source": [
    "article1_img = np.array([img_dict[tok] for tok in article1_tok])"
   ]
  },
  {
   "cell_type": "code",
   "execution_count": 66,
   "metadata": {},
   "outputs": [],
   "source": [
    "min_val = min([min(elem) for elem in article1_img])"
   ]
  },
  {
   "cell_type": "code",
   "execution_count": 67,
   "metadata": {},
   "outputs": [],
   "source": [
    "article1_img_shift = article1_img - min_val"
   ]
  },
  {
   "cell_type": "code",
   "execution_count": 69,
   "metadata": {},
   "outputs": [],
   "source": [
    "l2_norm = np.sqrt((article1_img_shift*article1_img_shift).sum(axis = 1)).reshape(703,1)"
   ]
  },
  {
   "cell_type": "code",
   "execution_count": 70,
   "metadata": {},
   "outputs": [],
   "source": [
    "article1_img_shift_norm = article1_img_shift/l2_norm"
   ]
  },
  {
   "cell_type": "code",
   "execution_count": 71,
   "metadata": {},
   "outputs": [],
   "source": [
    "max_val = max([max(tok) for tok in article1_img_shift_norm])"
   ]
  },
  {
   "cell_type": "code",
   "execution_count": 72,
   "metadata": {},
   "outputs": [],
   "source": [
    "article1_img_shift_norm_scaled = article1_img_shift_norm/max_val"
   ]
  },
  {
   "cell_type": "code",
   "execution_count": 73,
   "metadata": {},
   "outputs": [],
   "source": [
    "import cv2\n",
    "heatmap = cv2.applyColorMap(np.uint8(255*article1_img_shift_norm_scaled), cv2.COLORMAP_JET)"
   ]
  },
  {
   "cell_type": "code",
   "execution_count": 74,
   "metadata": {},
   "outputs": [
    {
     "data": {
      "text/plain": [
       "True"
      ]
     },
     "execution_count": 74,
     "metadata": {},
     "output_type": "execute_result"
    }
   ],
   "source": [
    "cv2.imwrite(data_dir_0+\"article_1.jpg\", np.uint8(255 * heatmap))"
   ]
  },
  {
   "cell_type": "code",
   "execution_count": null,
   "metadata": {},
   "outputs": [],
   "source": []
  }
 ],
 "metadata": {
  "kernelspec": {
   "display_name": "Python 3",
   "language": "python",
   "name": "python3"
  },
  "language_info": {
   "codemirror_mode": {
    "name": "ipython",
    "version": 3
   },
   "file_extension": ".py",
   "mimetype": "text/x-python",
   "name": "python",
   "nbconvert_exporter": "python",
   "pygments_lexer": "ipython3",
   "version": "3.6.4"
  }
 },
 "nbformat": 4,
 "nbformat_minor": 2
}
