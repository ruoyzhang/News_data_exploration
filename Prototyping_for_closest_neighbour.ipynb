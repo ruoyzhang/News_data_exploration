{
 "cells": [
  {
   "cell_type": "code",
   "execution_count": 1,
   "metadata": {},
   "outputs": [],
   "source": [
    "import pickle\n",
    "import numpy as np\n",
    "from scipy import spatial"
   ]
  },
  {
   "cell_type": "code",
   "execution_count": 2,
   "metadata": {},
   "outputs": [],
   "source": [
    "# the papersapce version\n",
    "data_dir_0 = '/home/paperspace/projects/news_exploration/Data/training_data/period0/'\n",
    "data_dir_1 = '/home/paperspace/projects/news_exploration/Data/training_data/period1/'\n",
    "data_dir_2 = '/home/paperspace/projects/news_exploration/Data/training_data/period2/'\n",
    "data_dir_3 = '/home/paperspace/projects/news_exploration/Data/training_data/period3/'"
   ]
  },
  {
   "cell_type": "code",
   "execution_count": 2,
   "metadata": {},
   "outputs": [],
   "source": [
    "# the local version\n",
    "data_dir_0 = '/Users/ruoyangzhang/Documents/PythonWorkingDirectory/news_exploration/Data/training_data/period0/'\n",
    "data_dir_1 = '/Users/ruoyangzhang/Documents/PythonWorkingDirectory/news_exploration/Data/training_data/period1/'\n",
    "data_dir_2 = '/Users/ruoyangzhang/Documents/PythonWorkingDirectory/news_exploration/Data/training_data/period2/'\n",
    "data_dir_3 = '/Users/ruoyangzhang/Documents/PythonWorkingDirectory/news_exploration/Data/training_data/period3/'"
   ]
  },
  {
   "cell_type": "code",
   "execution_count": 3,
   "metadata": {},
   "outputs": [],
   "source": [
    "with open(data_dir_0 +'word2idx.dat', 'rb') as handle:\n",
    "    word2idx_0 = pickle.load(handle)\n",
    "with open(data_dir_1 +'word2idx.dat', 'rb') as handle:\n",
    "    word2idx_1 = pickle.load(handle)\n",
    "with open(data_dir_2 +'word2idx.dat', 'rb') as handle:\n",
    "    word2idx_2 = pickle.load(handle)"
   ]
  },
  {
   "cell_type": "code",
   "execution_count": 4,
   "metadata": {},
   "outputs": [],
   "source": [
    "with open(data_dir_0 +'idx2word.dat', 'rb') as handle:\n",
    "    idx2word_0 = pickle.load(handle)\n",
    "with open(data_dir_1 +'idx2word.dat', 'rb') as handle:\n",
    "    idx2word_1 = pickle.load(handle)\n",
    "with open(data_dir_2 +'idx2word.dat', 'rb') as handle:\n",
    "    idx2word_2 = pickle.load(handle)"
   ]
  },
  {
   "cell_type": "code",
   "execution_count": 5,
   "metadata": {},
   "outputs": [],
   "source": [
    "with open(data_dir_0 +'idx2vec.dat', 'rb') as handle:\n",
    "    idx2vec_0 = pickle.load(handle)\n",
    "with open(data_dir_1 +'idx2vec.dat', 'rb') as handle:\n",
    "    idx2vec_1 = pickle.load(handle)\n",
    "with open(data_dir_2 +'idx2vec.dat', 'rb') as handle:\n",
    "    idx2vec_2 = pickle.load(handle)"
   ]
  },
  {
   "cell_type": "code",
   "execution_count": 73,
   "metadata": {},
   "outputs": [],
   "source": [
    "class similar_words:\n",
    "    \n",
    "    def __init__(self, data_dir):\n",
    "        with open(data_dir + 'word2idx.dat', 'rb') as handle:\n",
    "            self.word2idx = pickle.load(handle)\n",
    "        with open(data_dir + 'idx2word.dat', 'rb') as handle:\n",
    "            self.idx2word = pickle.load(handle)\n",
    "        with open(data_dir + 'idx2vec.dat', 'rb') as handle:\n",
    "            self.idx2vec = pickle.load(handle)\n",
    "    \n",
    "    def normalise(self):\n",
    "        l2_norm = np.sqrt((self.idx2vec * self.idx2vec).sum(axis = 1)).reshape((self.idx2vec.shape[0]),1)\n",
    "        self.n_idx2vec = self.idx2vec/l2_norm\n",
    "        self.n_idx2vec[0] = np.array([0]*self.idx2vec.shape[1])\n",
    "        \n",
    "    \n",
    "    def closest_neighbours(self, word, n = 10, normalised = True):\n",
    "        idx = self.word2idx[word]\n",
    "        if normalised:\n",
    "            idx_sim_dict = {i:1-spatial.distance.cosine(self.n_idx2vec[idx],vec) for i,vec in enumerate(self.n_idx2vec) if i not in [0,idx]}\n",
    "        else:\n",
    "            idx_sim_dict = {i:1-spatial.distance.cosine(self.idx2vec[idx],vec) for i,vec in enumerate(self.idx2vec) if i not in [0,idx]}\n",
    "        idx_sim_dict = sorted(idx_sim_dict.items(), key=lambda kv: kv[1], reverse=True)\n",
    "        self.neighbours = [(self.idx2word[pair[0]], pair[1]) for pair in idx_sim_dict[:20]]\n",
    "        \n",
    "        "
   ]
  },
  {
   "cell_type": "code",
   "execution_count": 3,
   "metadata": {},
   "outputs": [],
   "source": [
    "from neighbourhood import similar_words"
   ]
  },
  {
   "cell_type": "code",
   "execution_count": 4,
   "metadata": {},
   "outputs": [
    {
     "name": "stderr",
     "output_type": "stream",
     "text": [
      "/home/paperspace/projects/news_exploration/News_data_exploration/neighbourhood.py:17: RuntimeWarning: invalid value encountered in true_divide\n",
      "  self.n_idx2vec = self.idx2vec/l2_norm\n"
     ]
    }
   ],
   "source": [
    "test0 = similar_words(data_dir_0)\n",
    "test0.normalise()\n",
    "test1 = similar_words(data_dir_1)\n",
    "test1.normalise()\n",
    "test2 = similar_words(data_dir_2)\n",
    "test2.normalise()\n",
    "test3 = similar_words(data_dir_3)\n",
    "test3.normalise()"
   ]
  },
  {
   "cell_type": "code",
   "execution_count": 17,
   "metadata": {},
   "outputs": [],
   "source": [
    "word = 'brexit'"
   ]
  },
  {
   "cell_type": "code",
   "execution_count": 23,
   "metadata": {},
   "outputs": [],
   "source": [
    "test0.closest_neighbours(word, n = 30, normalised = True)\n",
    "test1.closest_neighbours(word, n = 30, normalised = True)\n",
    "test2.closest_neighbours(word, n = 30, normalised = True)\n",
    "test3.closest_neighbours(word, n = 30, normalised = True)"
   ]
  },
  {
   "cell_type": "code",
   "execution_count": 24,
   "metadata": {
    "scrolled": false
   },
   "outputs": [
    {
     "data": {
      "text/plain": [
       "[('exacerbate', 0.55687344074249268),\n",
       " ('divisions', 0.55684494972229004),\n",
       " ('divisions_between', 0.55172204971313477),\n",
       " ('destabilizing', 0.54151296615600586),\n",
       " ('christine_lagarde', 0.53920257091522217),\n",
       " ('fervor', 0.53260529041290283),\n",
       " ('exports', 0.53050649166107178),\n",
       " ('resets', 0.51632332801818848),\n",
       " ('domino_effect', 0.51083266735076904),\n",
       " ('economic_consequences', 0.51022613048553467),\n",
       " ('decide_whether', 0.50888723134994507),\n",
       " ('whisker', 0.50830203294754028),\n",
       " ('hinted', 0.50760048627853394),\n",
       " ('often_referred', 0.5074271559715271),\n",
       " ('irrevocable', 0.50604122877120972),\n",
       " ('financial_crisis', 0.50574064254760742),\n",
       " ('dimon', 0.50302326679229736),\n",
       " ('shaken', 0.50301027297973633),\n",
       " ('extra_13', 0.50251781940460205),\n",
       " ('vehemence', 0.5019722580909729),\n",
       " ('expressions', 0.50091409683227539),\n",
       " ('turbulence', 0.49880757927894592),\n",
       " ('reawakened', 0.49813476204872131),\n",
       " ('thesis', 0.49788960814476013),\n",
       " ('public_finances', 0.49393236637115479),\n",
       " ('u_k', 0.4918968677520752),\n",
       " ('global_asset', 0.48967161774635315),\n",
       " ('pluralist', 0.4895605742931366),\n",
       " ('unevenly', 0.48886188864707947),\n",
       " ('peace_process', 0.48822429776191711)]"
      ]
     },
     "execution_count": 24,
     "metadata": {},
     "output_type": "execute_result"
    }
   ],
   "source": [
    "test0.neighbours"
   ]
  },
  {
   "cell_type": "code",
   "execution_count": 25,
   "metadata": {
    "scrolled": false
   },
   "outputs": [
    {
     "data": {
      "text/plain": [
       "[('divisions', 0.55103069543838501),\n",
       " ('christine_lagarde', 0.53009426593780518),\n",
       " ('exacerbate', 0.52835685014724731),\n",
       " ('exports', 0.5128856897354126),\n",
       " ('destabilizing', 0.50886046886444092),\n",
       " ('domino_effect', 0.50877183675765991),\n",
       " ('economic_consequences', 0.50775974988937378),\n",
       " ('hinted', 0.50773352384567261),\n",
       " ('shaken', 0.5026249885559082),\n",
       " ('global_asset', 0.50047725439071655),\n",
       " ('decide_whether', 0.49833822250366211),\n",
       " ('u_k', 0.49465185403823853),\n",
       " ('thesis', 0.49111098051071167),\n",
       " ('constituent', 0.48438006639480591),\n",
       " ('overshadow', 0.48224928975105286),\n",
       " ('yellen', 0.47946998476982117),\n",
       " ('european_union', 0.47554478049278259),\n",
       " ('public_finances', 0.47536560893058777),\n",
       " ('irrevocable', 0.47467297315597534),\n",
       " ('affirmative', 0.47412505745887756),\n",
       " ('expressions', 0.47216367721557617),\n",
       " ('eu', 0.47048455476760864),\n",
       " ('international_monetary', 0.46989136934280396),\n",
       " ('pluralist', 0.46540179848670959),\n",
       " ('stability', 0.46425351500511169),\n",
       " ('imf', 0.46118539571762085),\n",
       " ('subsidies', 0.46027854084968567),\n",
       " ('prompt', 0.45853078365325928),\n",
       " ('predict', 0.45810851454734802),\n",
       " ('guide', 0.45676258206367493)]"
      ]
     },
     "execution_count": 25,
     "metadata": {},
     "output_type": "execute_result"
    }
   ],
   "source": [
    "test1.neighbours"
   ]
  },
  {
   "cell_type": "code",
   "execution_count": 26,
   "metadata": {
    "scrolled": false
   },
   "outputs": [
    {
     "data": {
      "text/plain": [
       "[('divisions', 0.54834765195846558),\n",
       " ('exports', 0.51314806938171387),\n",
       " ('destabilizing', 0.50320160388946533),\n",
       " ('u_k', 0.50249898433685303),\n",
       " ('decide_whether', 0.49557679891586304),\n",
       " ('thesis', 0.4898625910282135),\n",
       " ('irrevocable', 0.485107421875),\n",
       " ('european_union', 0.4812832772731781),\n",
       " ('eu', 0.4784645140171051),\n",
       " ('overshadow', 0.4760470986366272),\n",
       " ('predict', 0.47083747386932373),\n",
       " ('public_finances', 0.46850800514221191),\n",
       " ('stability', 0.46766901016235352),\n",
       " ('geography', 0.45891055464744568),\n",
       " ('expressions', 0.4588036835193634),\n",
       " ('guide', 0.45864647626876831),\n",
       " ('britons', 0.45316052436828613),\n",
       " ('uncertainty', 0.45072287321090698),\n",
       " ('weighed', 0.44949376583099365),\n",
       " ('very_difficult', 0.44934865832328796),\n",
       " ('managing_director', 0.448749840259552),\n",
       " ('easiest', 0.44711682200431824),\n",
       " ('prompt', 0.44538190960884094),\n",
       " ('proponents', 0.44342350959777832),\n",
       " ('sounded', 0.44070020318031311),\n",
       " ('independence_party', 0.43911093473434448),\n",
       " ('brexit_vote', 0.43610042333602905),\n",
       " ('regions', 0.43165919184684753),\n",
       " ('worries', 0.42495685815811157),\n",
       " ('leave', 0.42449331283569336)]"
      ]
     },
     "execution_count": 26,
     "metadata": {},
     "output_type": "execute_result"
    }
   ],
   "source": [
    "test2.neighbours"
   ]
  },
  {
   "cell_type": "code",
   "execution_count": 27,
   "metadata": {
    "scrolled": false
   },
   "outputs": [
    {
     "data": {
      "text/plain": [
       "[('divisions', 0.5353427529335022),\n",
       " ('destabilizing', 0.50838494300842285),\n",
       " ('u_k', 0.4983193576335907),\n",
       " ('exports', 0.49707752466201782),\n",
       " ('decide_whether', 0.48437595367431641),\n",
       " ('thesis', 0.48241400718688965),\n",
       " ('european_union', 0.47909626364707947),\n",
       " ('eu', 0.47787889838218689),\n",
       " ('predict', 0.46487510204315186),\n",
       " ('stability', 0.46320337057113647),\n",
       " ('irrevocable', 0.46066400408744812),\n",
       " ('britons', 0.46059855818748474),\n",
       " ('uncertainty', 0.45837438106536865),\n",
       " ('overshadow', 0.45458045601844788),\n",
       " ('expressions', 0.45442155003547668),\n",
       " ('guide', 0.45415183901786804),\n",
       " ('very_difficult', 0.44915539026260376),\n",
       " ('prompt', 0.44907116889953613),\n",
       " ('weighed', 0.4475952684879303),\n",
       " ('independence_party', 0.44346046447753906),\n",
       " ('managing_director', 0.44171822071075439),\n",
       " ('geography', 0.44076600670814514),\n",
       " ('brexit_vote', 0.43648886680603027),\n",
       " ('easiest', 0.43518704175949097),\n",
       " ('regions', 0.43129399418830872),\n",
       " ('exit', 0.42965435981750488),\n",
       " ('popularity', 0.42455148696899414),\n",
       " ('worries', 0.42383015155792236),\n",
       " ('sounded', 0.42358380556106567),\n",
       " ('labour', 0.42161247134208679)]"
      ]
     },
     "execution_count": 27,
     "metadata": {},
     "output_type": "execute_result"
    }
   ],
   "source": [
    "test3.neighbours"
   ]
  },
  {
   "cell_type": "code",
   "execution_count": 16,
   "metadata": {},
   "outputs": [],
   "source": [
    "top10_0 = set([pair[0] for pair in test0.neighbours])\n",
    "top10_1 = set([pair[0] for pair in test1.neighbours])\n",
    "top10_2 = set([pair[0] for pair in test2.neighbours])"
   ]
  },
  {
   "cell_type": "code",
   "execution_count": 23,
   "metadata": {},
   "outputs": [
    {
     "data": {
      "text/plain": [
       "{'debate', 'lead', 'thursday', 'win'}"
      ]
     },
     "execution_count": 23,
     "metadata": {},
     "output_type": "execute_result"
    }
   ],
   "source": [
    "top10_0 - top10_1"
   ]
  },
  {
   "cell_type": "code",
   "execution_count": 24,
   "metadata": {},
   "outputs": [
    {
     "data": {
      "text/plain": [
       "{'britons', 'tomorrow', 'u_k', 'united_kingdom'}"
      ]
     },
     "execution_count": 24,
     "metadata": {},
     "output_type": "execute_result"
    }
   ],
   "source": [
    "top10_1 - top10_0"
   ]
  },
  {
   "cell_type": "code",
   "execution_count": 25,
   "metadata": {},
   "outputs": [
    {
     "data": {
      "text/plain": [
       "{'ahead', 'independence', 'tomorrow'}"
      ]
     },
     "execution_count": 25,
     "metadata": {},
     "output_type": "execute_result"
    }
   ],
   "source": [
    "top10_1 - top10_2"
   ]
  },
  {
   "cell_type": "code",
   "execution_count": 26,
   "metadata": {},
   "outputs": [
    {
     "data": {
      "text/plain": [
       "{'debate', 'voted', 'win'}"
      ]
     },
     "execution_count": 26,
     "metadata": {},
     "output_type": "execute_result"
    }
   ],
   "source": [
    "top10_2 - top10_1"
   ]
  },
  {
   "cell_type": "markdown",
   "metadata": {},
   "source": [
    "Does not look like it's converged/overfit after only 3 epochs of training"
   ]
  },
  {
   "cell_type": "markdown",
   "metadata": {},
   "source": [
    "## testing converting articles to images"
   ]
  },
  {
   "cell_type": "code",
   "execution_count": 27,
   "metadata": {},
   "outputs": [],
   "source": [
    "img_dict = test.n_idx2vec"
   ]
  },
  {
   "cell_type": "code",
   "execution_count": 29,
   "metadata": {},
   "outputs": [],
   "source": [
    "img_dict[0] = np.array([0]*300)"
   ]
  },
  {
   "cell_type": "code",
   "execution_count": 61,
   "metadata": {},
   "outputs": [],
   "source": [
    "with open('/home/paperspace/projects/news_exploration/Data/all-the-news/' + 'articles_1_0_preprocessed.pickle', 'rb') as handle:\n",
    "    articles = pickle.load(handle)"
   ]
  },
  {
   "cell_type": "code",
   "execution_count": 62,
   "metadata": {},
   "outputs": [],
   "source": [
    "article1 = articles[1]"
   ]
  },
  {
   "cell_type": "code",
   "execution_count": 63,
   "metadata": {},
   "outputs": [],
   "source": [
    "def return_idx(word):\n",
    "    if word in word2idx_0.keys():\n",
    "        return(word2idx_0[word])\n",
    "    else:\n",
    "        return(0)"
   ]
  },
  {
   "cell_type": "code",
   "execution_count": 64,
   "metadata": {},
   "outputs": [],
   "source": [
    "article1_tok = [return_idx(word) for word in article1]"
   ]
  },
  {
   "cell_type": "code",
   "execution_count": 65,
   "metadata": {},
   "outputs": [],
   "source": [
    "article1_img = np.array([img_dict[tok] for tok in article1_tok])"
   ]
  },
  {
   "cell_type": "code",
   "execution_count": 66,
   "metadata": {},
   "outputs": [],
   "source": [
    "min_val = min([min(elem) for elem in article1_img])"
   ]
  },
  {
   "cell_type": "code",
   "execution_count": 67,
   "metadata": {},
   "outputs": [],
   "source": [
    "article1_img_shift = article1_img - min_val"
   ]
  },
  {
   "cell_type": "code",
   "execution_count": 69,
   "metadata": {},
   "outputs": [],
   "source": [
    "l2_norm = np.sqrt((article1_img_shift*article1_img_shift).sum(axis = 1)).reshape(703,1)"
   ]
  },
  {
   "cell_type": "code",
   "execution_count": 70,
   "metadata": {},
   "outputs": [],
   "source": [
    "article1_img_shift_norm = article1_img_shift/l2_norm"
   ]
  },
  {
   "cell_type": "code",
   "execution_count": 71,
   "metadata": {},
   "outputs": [],
   "source": [
    "max_val = max([max(tok) for tok in article1_img_shift_norm])"
   ]
  },
  {
   "cell_type": "code",
   "execution_count": 72,
   "metadata": {},
   "outputs": [],
   "source": [
    "article1_img_shift_norm_scaled = article1_img_shift_norm/max_val"
   ]
  },
  {
   "cell_type": "code",
   "execution_count": 73,
   "metadata": {},
   "outputs": [],
   "source": [
    "import cv2\n",
    "heatmap = cv2.applyColorMap(np.uint8(255*article1_img_shift_norm_scaled), cv2.COLORMAP_JET)"
   ]
  },
  {
   "cell_type": "code",
   "execution_count": 74,
   "metadata": {},
   "outputs": [
    {
     "data": {
      "text/plain": [
       "True"
      ]
     },
     "execution_count": 74,
     "metadata": {},
     "output_type": "execute_result"
    }
   ],
   "source": [
    "cv2.imwrite(data_dir_0+\"article_1.jpg\", np.uint8(255 * heatmap))"
   ]
  },
  {
   "cell_type": "code",
   "execution_count": null,
   "metadata": {},
   "outputs": [],
   "source": []
  }
 ],
 "metadata": {
  "kernelspec": {
   "display_name": "Python 3",
   "language": "python",
   "name": "python3"
  },
  "language_info": {
   "codemirror_mode": {
    "name": "ipython",
    "version": 3
   },
   "file_extension": ".py",
   "mimetype": "text/x-python",
   "name": "python",
   "nbconvert_exporter": "python",
   "pygments_lexer": "ipython3",
   "version": "3.6.4"
  }
 },
 "nbformat": 4,
 "nbformat_minor": 2
}
