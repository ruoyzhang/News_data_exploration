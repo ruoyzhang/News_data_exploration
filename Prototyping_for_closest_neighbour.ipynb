{
 "cells": [
  {
   "cell_type": "code",
   "execution_count": 1,
   "metadata": {},
   "outputs": [],
   "source": [
    "import pickle\n",
    "import numpy as np\n",
    "from scipy import spatial"
   ]
  },
  {
   "cell_type": "code",
   "execution_count": 2,
   "metadata": {},
   "outputs": [],
   "source": [
    "# the papersapce version\n",
    "data_dir_0 = '/home/paperspace/projects/news_exploration/Data/training_data/period0/'\n",
    "data_dir_1 = '/home/paperspace/projects/news_exploration/Data/training_data/period1/'\n",
    "data_dir_2 = '/home/paperspace/projects/news_exploration/Data/training_data/period2/'\n",
    "data_dir_3 = '/home/paperspace/projects/news_exploration/Data/training_data/period3/'"
   ]
  },
  {
   "cell_type": "code",
   "execution_count": 2,
   "metadata": {},
   "outputs": [],
   "source": [
    "# the local version\n",
    "data_dir_0 = '/Users/ruoyangzhang/Documents/PythonWorkingDirectory/news_exploration/Data/training_data/period0/'\n",
    "data_dir_1 = '/Users/ruoyangzhang/Documents/PythonWorkingDirectory/news_exploration/Data/training_data/period1/'\n",
    "data_dir_2 = '/Users/ruoyangzhang/Documents/PythonWorkingDirectory/news_exploration/Data/training_data/period2/'\n",
    "data_dir_3 = '/Users/ruoyangzhang/Documents/PythonWorkingDirectory/news_exploration/Data/training_data/period3/'"
   ]
  },
  {
   "cell_type": "code",
   "execution_count": 3,
   "metadata": {},
   "outputs": [],
   "source": [
    "with open(data_dir_0 +'word2idx.dat', 'rb') as handle:\n",
    "    word2idx_0 = pickle.load(handle)\n",
    "with open(data_dir_1 +'word2idx.dat', 'rb') as handle:\n",
    "    word2idx_1 = pickle.load(handle)\n",
    "with open(data_dir_2 +'word2idx.dat', 'rb') as handle:\n",
    "    word2idx_2 = pickle.load(handle)"
   ]
  },
  {
   "cell_type": "code",
   "execution_count": 4,
   "metadata": {},
   "outputs": [],
   "source": [
    "with open(data_dir_0 +'idx2word.dat', 'rb') as handle:\n",
    "    idx2word_0 = pickle.load(handle)\n",
    "with open(data_dir_1 +'idx2word.dat', 'rb') as handle:\n",
    "    idx2word_1 = pickle.load(handle)\n",
    "with open(data_dir_2 +'idx2word.dat', 'rb') as handle:\n",
    "    idx2word_2 = pickle.load(handle)"
   ]
  },
  {
   "cell_type": "code",
   "execution_count": 5,
   "metadata": {},
   "outputs": [],
   "source": [
    "with open(data_dir_0 +'idx2vec.dat', 'rb') as handle:\n",
    "    idx2vec_0 = pickle.load(handle)\n",
    "with open(data_dir_1 +'idx2vec.dat', 'rb') as handle:\n",
    "    idx2vec_1 = pickle.load(handle)\n",
    "with open(data_dir_2 +'idx2vec.dat', 'rb') as handle:\n",
    "    idx2vec_2 = pickle.load(handle)"
   ]
  },
  {
   "cell_type": "code",
   "execution_count": 73,
   "metadata": {},
   "outputs": [],
   "source": [
    "class similar_words:\n",
    "    \n",
    "    def __init__(self, data_dir):\n",
    "        with open(data_dir + 'word2idx.dat', 'rb') as handle:\n",
    "            self.word2idx = pickle.load(handle)\n",
    "        with open(data_dir + 'idx2word.dat', 'rb') as handle:\n",
    "            self.idx2word = pickle.load(handle)\n",
    "        with open(data_dir + 'idx2vec.dat', 'rb') as handle:\n",
    "            self.idx2vec = pickle.load(handle)\n",
    "    \n",
    "    def normalise(self):\n",
    "        l2_norm = np.sqrt((self.idx2vec * self.idx2vec).sum(axis = 1)).reshape((self.idx2vec.shape[0]),1)\n",
    "        self.n_idx2vec = self.idx2vec/l2_norm\n",
    "        self.n_idx2vec[0] = np.array([0]*self.idx2vec.shape[1])\n",
    "        \n",
    "    \n",
    "    def closest_neighbours(self, word, n = 10, normalised = True):\n",
    "        idx = self.word2idx[word]\n",
    "        if normalised:\n",
    "            idx_sim_dict = {i:1-spatial.distance.cosine(self.n_idx2vec[idx],vec) for i,vec in enumerate(self.n_idx2vec) if i not in [0,idx]}\n",
    "        else:\n",
    "            idx_sim_dict = {i:1-spatial.distance.cosine(self.idx2vec[idx],vec) for i,vec in enumerate(self.idx2vec) if i not in [0,idx]}\n",
    "        idx_sim_dict = sorted(idx_sim_dict.items(), key=lambda kv: kv[1], reverse=True)\n",
    "        self.neighbours = [(self.idx2word[pair[0]], pair[1]) for pair in idx_sim_dict[:20]]\n",
    "        \n",
    "        "
   ]
  },
  {
   "cell_type": "code",
   "execution_count": 3,
   "metadata": {},
   "outputs": [],
   "source": [
    "from neighbourhood import similar_words"
   ]
  },
  {
   "cell_type": "code",
   "execution_count": 4,
   "metadata": {},
   "outputs": [
    {
     "name": "stderr",
     "output_type": "stream",
     "text": [
      "/home/paperspace/projects/news_exploration/News_data_exploration/neighbourhood.py:17: RuntimeWarning: invalid value encountered in true_divide\n",
      "  self.n_idx2vec = self.idx2vec/l2_norm\n"
     ]
    }
   ],
   "source": [
    "test0 = similar_words(data_dir_0)\n",
    "test0.normalise()\n",
    "test1 = similar_words(data_dir_1)\n",
    "test1.normalise()\n",
    "test2 = similar_words(data_dir_2)\n",
    "test2.normalise()\n",
    "test3 = similar_words(data_dir_3)\n",
    "test3.normalise()"
   ]
  },
  {
   "cell_type": "code",
   "execution_count": 5,
   "metadata": {},
   "outputs": [],
   "source": [
    "word = 'referendum'"
   ]
  },
  {
   "cell_type": "code",
   "execution_count": 6,
   "metadata": {},
   "outputs": [],
   "source": [
    "test0.closest_neighbours(word, n = 20, normalised = True)\n",
    "test1.closest_neighbours(word, n = 20, normalised = True)\n",
    "test2.closest_neighbours(word, n = 20, normalised = True)\n",
    "test3.closest_neighbours(word, n = 20, normalised = True)"
   ]
  },
  {
   "cell_type": "code",
   "execution_count": 7,
   "metadata": {
    "scrolled": true
   },
   "outputs": [
    {
     "data": {
      "text/plain": [
       "[('european_union', 0.87031692266464233),\n",
       " ('britons', 0.83396273851394653),\n",
       " ('june_23', 0.82871079444885254),\n",
       " ('stay', 0.80684906244277954),\n",
       " ('shaping', 0.80064314603805542),\n",
       " ('leave', 0.79809200763702393),\n",
       " ('vote', 0.79619282484054565),\n",
       " ('shaken', 0.79517322778701782),\n",
       " ('exit', 0.78478610515594482),\n",
       " ('uk', 0.77786511182785034),\n",
       " ('bloc', 0.77523589134216309),\n",
       " ('remain', 0.77400869131088257),\n",
       " ('1978', 0.77395153045654297),\n",
       " ('northern_ireland', 0.77386939525604248),\n",
       " ('membership', 0.76935958862304688),\n",
       " ('britain', 0.76933705806732178),\n",
       " ('united_kingdom', 0.76922607421875),\n",
       " ('pound', 0.76863318681716919),\n",
       " ('polls', 0.75292813777923584),\n",
       " ('camp', 0.75130194425582886)]"
      ]
     },
     "execution_count": 7,
     "metadata": {},
     "output_type": "execute_result"
    }
   ],
   "source": [
    "test0.neighbours"
   ]
  },
  {
   "cell_type": "code",
   "execution_count": 8,
   "metadata": {},
   "outputs": [
    {
     "data": {
      "text/plain": [
       "[('european_union', 0.85870695114135742),\n",
       " ('britons', 0.83748865127563477),\n",
       " ('vote', 0.79487526416778564),\n",
       " ('stay', 0.7875019907951355),\n",
       " ('united_kingdom', 0.78078842163085938),\n",
       " ('shaping', 0.7799304723739624),\n",
       " ('uk', 0.77531373500823975),\n",
       " ('exit', 0.77498972415924072),\n",
       " ('june_23', 0.77422106266021729),\n",
       " ('membership', 0.77323061227798462),\n",
       " ('leave', 0.77223074436187744),\n",
       " ('northern_ireland', 0.77075099945068359),\n",
       " ('britain', 0.7694130539894104),\n",
       " ('bloc', 0.75891327857971191),\n",
       " ('pound', 0.74455296993255615),\n",
       " ('remain', 0.74279731512069702),\n",
       " ('debate', 0.73612791299819946),\n",
       " ('approval', 0.73606526851654053),\n",
       " ('shaken', 0.73454493284225464),\n",
       " ('polls', 0.73322254419326782)]"
      ]
     },
     "execution_count": 8,
     "metadata": {},
     "output_type": "execute_result"
    }
   ],
   "source": [
    "test1.neighbours"
   ]
  },
  {
   "cell_type": "code",
   "execution_count": 9,
   "metadata": {},
   "outputs": [
    {
     "data": {
      "text/plain": [
       "[('european_union', 0.86308455467224121),\n",
       " ('britons', 0.84405744075775146),\n",
       " ('united_kingdom', 0.81021547317504883),\n",
       " ('membership', 0.78758156299591064),\n",
       " ('uk', 0.78730744123458862),\n",
       " ('vote', 0.78497278690338135),\n",
       " ('bloc', 0.78426390886306763),\n",
       " ('stay', 0.77976757287979126),\n",
       " ('exit', 0.77460247278213501),\n",
       " ('britain', 0.77345949411392212),\n",
       " ('leave', 0.7598726749420166),\n",
       " ('northern_ireland', 0.75360333919525146),\n",
       " ('pound', 0.75247997045516968),\n",
       " ('debate', 0.74067103862762451),\n",
       " ('remain', 0.7354508638381958),\n",
       " ('1549', 0.7353091835975647),\n",
       " ('stays', 0.73399049043655396),\n",
       " ('polls', 0.73371309041976929),\n",
       " ('june_23', 0.73234003782272339),\n",
       " ('approval', 0.72891157865524292)]"
      ]
     },
     "execution_count": 9,
     "metadata": {},
     "output_type": "execute_result"
    }
   ],
   "source": [
    "test2.neighbours"
   ]
  },
  {
   "cell_type": "code",
   "execution_count": 10,
   "metadata": {},
   "outputs": [
    {
     "data": {
      "text/plain": [
       "[('european_union', 0.84626007080078125),\n",
       " ('britons', 0.82399404048919678),\n",
       " ('united_kingdom', 0.80262017250061035),\n",
       " ('membership', 0.78220409154891968),\n",
       " ('uk', 0.78134602308273315),\n",
       " ('bloc', 0.76987349987030029),\n",
       " ('vote', 0.76325368881225586),\n",
       " ('stay', 0.76076310873031616),\n",
       " ('exit', 0.75858134031295776),\n",
       " ('britain', 0.74882680177688599),\n",
       " ('northern_ireland', 0.73381876945495605),\n",
       " ('leave', 0.7328067421913147),\n",
       " ('stays', 0.73267644643783569),\n",
       " ('pound', 0.72344100475311279),\n",
       " ('polls', 0.71427822113037109),\n",
       " ('debate', 0.71146035194396973),\n",
       " ('currency', 0.71119964122772217),\n",
       " ('upcoming', 0.71107113361358643),\n",
       " ('remain', 0.70773535966873169),\n",
       " ('approval', 0.70627260208129883)]"
      ]
     },
     "execution_count": 10,
     "metadata": {},
     "output_type": "execute_result"
    }
   ],
   "source": [
    "test3.neighbours"
   ]
  },
  {
   "cell_type": "code",
   "execution_count": 11,
   "metadata": {},
   "outputs": [],
   "source": [
    "top10_0 = set([pair[0] for pair in test0.neighbours])\n",
    "top10_1 = set([pair[0] for pair in test1.neighbours])\n",
    "top10_2 = set([pair[0] for pair in test2.neighbours])\n",
    "top10_3 = set([pair[0] for pair in test3.neighbours])"
   ]
  },
  {
   "cell_type": "code",
   "execution_count": 12,
   "metadata": {},
   "outputs": [
    {
     "data": {
      "text/plain": [
       "{'1978', 'camp'}"
      ]
     },
     "execution_count": 12,
     "metadata": {},
     "output_type": "execute_result"
    }
   ],
   "source": [
    "top10_0 - top10_1"
   ]
  },
  {
   "cell_type": "code",
   "execution_count": 13,
   "metadata": {},
   "outputs": [
    {
     "data": {
      "text/plain": [
       "{'approval', 'debate'}"
      ]
     },
     "execution_count": 13,
     "metadata": {},
     "output_type": "execute_result"
    }
   ],
   "source": [
    "top10_1 - top10_0"
   ]
  },
  {
   "cell_type": "code",
   "execution_count": 14,
   "metadata": {},
   "outputs": [
    {
     "data": {
      "text/plain": [
       "{'shaken', 'shaping'}"
      ]
     },
     "execution_count": 14,
     "metadata": {},
     "output_type": "execute_result"
    }
   ],
   "source": [
    "top10_1 - top10_2"
   ]
  },
  {
   "cell_type": "code",
   "execution_count": 15,
   "metadata": {},
   "outputs": [
    {
     "data": {
      "text/plain": [
       "{'1549', 'stays'}"
      ]
     },
     "execution_count": 15,
     "metadata": {},
     "output_type": "execute_result"
    }
   ],
   "source": [
    "top10_2 - top10_1"
   ]
  },
  {
   "cell_type": "code",
   "execution_count": 16,
   "metadata": {},
   "outputs": [
    {
     "data": {
      "text/plain": [
       "{'1549', 'june_23'}"
      ]
     },
     "execution_count": 16,
     "metadata": {},
     "output_type": "execute_result"
    }
   ],
   "source": [
    "top10_2 - top10_3"
   ]
  },
  {
   "cell_type": "code",
   "execution_count": 17,
   "metadata": {},
   "outputs": [
    {
     "data": {
      "text/plain": [
       "{'currency', 'upcoming'}"
      ]
     },
     "execution_count": 17,
     "metadata": {},
     "output_type": "execute_result"
    }
   ],
   "source": [
    "top10_3 - top10_2"
   ]
  },
  {
   "cell_type": "markdown",
   "metadata": {},
   "source": [
    "Does not look like it's converged/overfit after only 3 epochs of training"
   ]
  },
  {
   "cell_type": "markdown",
   "metadata": {},
   "source": [
    "## testing converting articles to images"
   ]
  },
  {
   "cell_type": "code",
   "execution_count": 27,
   "metadata": {},
   "outputs": [],
   "source": [
    "img_dict = test.n_idx2vec"
   ]
  },
  {
   "cell_type": "code",
   "execution_count": 29,
   "metadata": {},
   "outputs": [],
   "source": [
    "img_dict[0] = np.array([0]*300)"
   ]
  },
  {
   "cell_type": "code",
   "execution_count": 61,
   "metadata": {},
   "outputs": [],
   "source": [
    "with open('/home/paperspace/projects/news_exploration/Data/all-the-news/' + 'articles_1_0_preprocessed.pickle', 'rb') as handle:\n",
    "    articles = pickle.load(handle)"
   ]
  },
  {
   "cell_type": "code",
   "execution_count": 62,
   "metadata": {},
   "outputs": [],
   "source": [
    "article1 = articles[1]"
   ]
  },
  {
   "cell_type": "code",
   "execution_count": 63,
   "metadata": {},
   "outputs": [],
   "source": [
    "def return_idx(word):\n",
    "    if word in word2idx_0.keys():\n",
    "        return(word2idx_0[word])\n",
    "    else:\n",
    "        return(0)"
   ]
  },
  {
   "cell_type": "code",
   "execution_count": 64,
   "metadata": {},
   "outputs": [],
   "source": [
    "article1_tok = [return_idx(word) for word in article1]"
   ]
  },
  {
   "cell_type": "code",
   "execution_count": 65,
   "metadata": {},
   "outputs": [],
   "source": [
    "article1_img = np.array([img_dict[tok] for tok in article1_tok])"
   ]
  },
  {
   "cell_type": "code",
   "execution_count": 66,
   "metadata": {},
   "outputs": [],
   "source": [
    "min_val = min([min(elem) for elem in article1_img])"
   ]
  },
  {
   "cell_type": "code",
   "execution_count": 67,
   "metadata": {},
   "outputs": [],
   "source": [
    "article1_img_shift = article1_img - min_val"
   ]
  },
  {
   "cell_type": "code",
   "execution_count": 69,
   "metadata": {},
   "outputs": [],
   "source": [
    "l2_norm = np.sqrt((article1_img_shift*article1_img_shift).sum(axis = 1)).reshape(703,1)"
   ]
  },
  {
   "cell_type": "code",
   "execution_count": 70,
   "metadata": {},
   "outputs": [],
   "source": [
    "article1_img_shift_norm = article1_img_shift/l2_norm"
   ]
  },
  {
   "cell_type": "code",
   "execution_count": 71,
   "metadata": {},
   "outputs": [],
   "source": [
    "max_val = max([max(tok) for tok in article1_img_shift_norm])"
   ]
  },
  {
   "cell_type": "code",
   "execution_count": 72,
   "metadata": {},
   "outputs": [],
   "source": [
    "article1_img_shift_norm_scaled = article1_img_shift_norm/max_val"
   ]
  },
  {
   "cell_type": "code",
   "execution_count": 73,
   "metadata": {},
   "outputs": [],
   "source": [
    "import cv2\n",
    "heatmap = cv2.applyColorMap(np.uint8(255*article1_img_shift_norm_scaled), cv2.COLORMAP_JET)"
   ]
  },
  {
   "cell_type": "code",
   "execution_count": 74,
   "metadata": {},
   "outputs": [
    {
     "data": {
      "text/plain": [
       "True"
      ]
     },
     "execution_count": 74,
     "metadata": {},
     "output_type": "execute_result"
    }
   ],
   "source": [
    "cv2.imwrite(data_dir_0+\"article_1.jpg\", np.uint8(255 * heatmap))"
   ]
  },
  {
   "cell_type": "code",
   "execution_count": null,
   "metadata": {},
   "outputs": [],
   "source": []
  }
 ],
 "metadata": {
  "kernelspec": {
   "display_name": "Python 3",
   "language": "python",
   "name": "python3"
  },
  "language_info": {
   "codemirror_mode": {
    "name": "ipython",
    "version": 3
   },
   "file_extension": ".py",
   "mimetype": "text/x-python",
   "name": "python",
   "nbconvert_exporter": "python",
   "pygments_lexer": "ipython3",
   "version": "3.6.4"
  }
 },
 "nbformat": 4,
 "nbformat_minor": 2
}
