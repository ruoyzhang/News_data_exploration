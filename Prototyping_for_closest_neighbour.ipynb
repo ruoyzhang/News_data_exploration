{
 "cells": [
  {
   "cell_type": "code",
   "execution_count": 1,
   "metadata": {},
   "outputs": [],
   "source": [
    "import pickle\n",
    "import numpy as np\n",
    "from scipy import spatial"
   ]
  },
  {
   "cell_type": "code",
   "execution_count": 3,
   "metadata": {},
   "outputs": [],
   "source": [
    "# the papersapce version\n",
    "data_dir_0 = '/home/paperspace/projects/news_exploration/Data/training_data/period0/'\n",
    "data_dir_1 = '/home/paperspace/projects/news_exploration/Data/training_data/period1/'\n",
    "data_dir_2 = '/home/paperspace/projects/news_exploration/Data/training_data/period2/'\n",
    "data_dir_3 = '/home/paperspace/projects/news_exploration/Data/training_data/period3/'\n",
    "data_dir_4 = '/home/paperspace/projects/news_exploration/Data/training_data/period4/'\n",
    "data_dir_5 = '/home/paperspace/projects/news_exploration/Data/training_data/period5/'"
   ]
  },
  {
   "cell_type": "code",
   "execution_count": 2,
   "metadata": {},
   "outputs": [],
   "source": [
    "# the local version\n",
    "data_dir_0 = '/Users/ruoyangzhang/Documents/PythonWorkingDirectory/news_exploration/Data/training_data/period0/'\n",
    "data_dir_1 = '/Users/ruoyangzhang/Documents/PythonWorkingDirectory/news_exploration/Data/training_data/period1/'\n",
    "data_dir_2 = '/Users/ruoyangzhang/Documents/PythonWorkingDirectory/news_exploration/Data/training_data/period2/'\n",
    "data_dir_3 = '/Users/ruoyangzhang/Documents/PythonWorkingDirectory/news_exploration/Data/training_data/period3/'"
   ]
  },
  {
   "cell_type": "code",
   "execution_count": 3,
   "metadata": {},
   "outputs": [],
   "source": [
    "with open(data_dir_0 +'word2idx.dat', 'rb') as handle:\n",
    "    word2idx_0 = pickle.load(handle)\n",
    "with open(data_dir_1 +'word2idx.dat', 'rb') as handle:\n",
    "    word2idx_1 = pickle.load(handle)\n",
    "with open(data_dir_2 +'word2idx.dat', 'rb') as handle:\n",
    "    word2idx_2 = pickle.load(handle)"
   ]
  },
  {
   "cell_type": "code",
   "execution_count": 4,
   "metadata": {},
   "outputs": [],
   "source": [
    "with open(data_dir_0 +'idx2word.dat', 'rb') as handle:\n",
    "    idx2word_0 = pickle.load(handle)\n",
    "with open(data_dir_1 +'idx2word.dat', 'rb') as handle:\n",
    "    idx2word_1 = pickle.load(handle)\n",
    "with open(data_dir_2 +'idx2word.dat', 'rb') as handle:\n",
    "    idx2word_2 = pickle.load(handle)"
   ]
  },
  {
   "cell_type": "code",
   "execution_count": 5,
   "metadata": {},
   "outputs": [],
   "source": [
    "with open(data_dir_0 +'idx2vec.dat', 'rb') as handle:\n",
    "    idx2vec_0 = pickle.load(handle)\n",
    "with open(data_dir_1 +'idx2vec.dat', 'rb') as handle:\n",
    "    idx2vec_1 = pickle.load(handle)\n",
    "with open(data_dir_2 +'idx2vec.dat', 'rb') as handle:\n",
    "    idx2vec_2 = pickle.load(handle)"
   ]
  },
  {
   "cell_type": "code",
   "execution_count": 73,
   "metadata": {},
   "outputs": [],
   "source": [
    "class similar_words:\n",
    "    \n",
    "    def __init__(self, data_dir):\n",
    "        with open(data_dir + 'word2idx.dat', 'rb') as handle:\n",
    "            self.word2idx = pickle.load(handle)\n",
    "        with open(data_dir + 'idx2word.dat', 'rb') as handle:\n",
    "            self.idx2word = pickle.load(handle)\n",
    "        with open(data_dir + 'idx2vec.dat', 'rb') as handle:\n",
    "            self.idx2vec = pickle.load(handle)\n",
    "    \n",
    "    def normalise(self):\n",
    "        l2_norm = np.sqrt((self.idx2vec * self.idx2vec).sum(axis = 1)).reshape((self.idx2vec.shape[0]),1)\n",
    "        self.n_idx2vec = self.idx2vec/l2_norm\n",
    "        self.n_idx2vec[0] = np.array([0]*self.idx2vec.shape[1])\n",
    "        \n",
    "    \n",
    "    def closest_neighbours(self, word, n = 10, normalised = True):\n",
    "        idx = self.word2idx[word]\n",
    "        if normalised:\n",
    "            idx_sim_dict = {i:1-spatial.distance.cosine(self.n_idx2vec[idx],vec) for i,vec in enumerate(self.n_idx2vec) if i not in [0,idx]}\n",
    "        else:\n",
    "            idx_sim_dict = {i:1-spatial.distance.cosine(self.idx2vec[idx],vec) for i,vec in enumerate(self.idx2vec) if i not in [0,idx]}\n",
    "        idx_sim_dict = sorted(idx_sim_dict.items(), key=lambda kv: kv[1], reverse=True)\n",
    "        self.neighbours = [(self.idx2word[pair[0]], pair[1]) for pair in idx_sim_dict[:20]]\n",
    "        \n",
    "        "
   ]
  },
  {
   "cell_type": "code",
   "execution_count": 4,
   "metadata": {},
   "outputs": [],
   "source": [
    "from neighbourhood import similar_words"
   ]
  },
  {
   "cell_type": "code",
   "execution_count": 5,
   "metadata": {},
   "outputs": [
    {
     "name": "stderr",
     "output_type": "stream",
     "text": [
      "/home/paperspace/projects/news_exploration/News_data_exploration/neighbourhood.py:17: RuntimeWarning: invalid value encountered in true_divide\n",
      "  self.n_idx2vec = self.idx2vec/l2_norm\n"
     ]
    }
   ],
   "source": [
    "test0 = similar_words(data_dir_0)\n",
    "test0.normalise()\n",
    "test1 = similar_words(data_dir_1)\n",
    "test1.normalise()\n",
    "test2 = similar_words(data_dir_2)\n",
    "test2.normalise()\n",
    "test3 = similar_words(data_dir_3)\n",
    "test3.normalise()\n",
    "test4 = similar_words(data_dir_3)\n",
    "test4.normalise()\n",
    "test5 = similar_words(data_dir_3)\n",
    "test5.normalise()"
   ]
  },
  {
   "cell_type": "code",
   "execution_count": 40,
   "metadata": {},
   "outputs": [],
   "source": [
    "word = 'brexit'"
   ]
  },
  {
   "cell_type": "code",
   "execution_count": 41,
   "metadata": {},
   "outputs": [],
   "source": [
    "test0.closest_neighbours(word, n = 50, normalised = True)\n",
    "test1.closest_neighbours(word, n = 50, normalised = True)\n",
    "test2.closest_neighbours(word, n = 50, normalised = True)\n",
    "test3.closest_neighbours(word, n = 50, normalised = True)\n",
    "test4.closest_neighbours(word, n = 50, normalised = True)\n",
    "test5.closest_neighbours(word, n = 50, normalised = True)"
   ]
  },
  {
   "cell_type": "code",
   "execution_count": 42,
   "metadata": {
    "collapsed": true
   },
   "outputs": [
    {
     "data": {
      "text/plain": [
       "[('uncertainty', 0.79934424161911011),\n",
       " ('imf', 0.77886784076690674),\n",
       " ('exacerbate', 0.76321631669998169),\n",
       " ('domino_effect', 0.76239937543869019),\n",
       " ('divisions', 0.7588202953338623),\n",
       " ('peace_process', 0.75772386789321899),\n",
       " ('shaken', 0.7558600902557373),\n",
       " ('oecd', 0.75578081607818604),\n",
       " ('political_discontent', 0.75438833236694336),\n",
       " ('destabilizing', 0.75093299150466919),\n",
       " ('protracted_political', 0.74849039316177368),\n",
       " ('exits', 0.74821406602859497),\n",
       " ('divisions_between', 0.74597287178039551),\n",
       " ('dimon', 0.74434858560562134),\n",
       " ('geography', 0.74390679597854614),\n",
       " ('exit', 0.74257045984268188),\n",
       " ('populist_parties', 0.74194955825805664),\n",
       " ('financial_services', 0.74118465185165405),\n",
       " ('christine_lagarde', 0.73885887861251831),\n",
       " ('approval', 0.7374224066734314),\n",
       " ('prompt', 0.73693251609802246),\n",
       " ('hinted', 0.73662436008453369),\n",
       " ('warnings_about', 0.73637902736663818),\n",
       " ('british_government', 0.73577117919921875),\n",
       " ('devaluation', 0.73549973964691162),\n",
       " ('british_economy', 0.73538708686828613),\n",
       " ('extra_13', 0.73519641160964966),\n",
       " ('scotland', 0.73330909013748169),\n",
       " ('competitiveness', 0.73283296823501587),\n",
       " ('cost_britons', 0.73063260316848755),\n",
       " ('turbulence', 0.73033678531646729),\n",
       " ('unified', 0.72874045372009277),\n",
       " ('trading_partners', 0.7283320426940918),\n",
       " ('northern_ireland', 0.7271234393119812),\n",
       " ('import_tariffs', 0.72382193803787231),\n",
       " ('interfering', 0.7228778600692749),\n",
       " ('exports', 0.72286736965179443),\n",
       " ('across_europe', 0.72217237949371338),\n",
       " ('embolden', 0.72084635496139526),\n",
       " ('more_prosperous', 0.72068053483963013),\n",
       " ('emphasised', 0.72042554616928101),\n",
       " ('eu', 0.72017848491668701),\n",
       " ('reawakened', 0.71916985511779785),\n",
       " ('secede', 0.71828341484069824),\n",
       " ('european_union', 0.7177501916885376),\n",
       " ('uk_negotiates', 0.71623921394348145),\n",
       " ('long_run', 0.7152402400970459),\n",
       " ('often_referred', 0.71459227800369263),\n",
       " ('remain_camp', 0.71291160583496094),\n",
       " ('economic_consequences', 0.71269071102142334)]"
      ]
     },
     "execution_count": 42,
     "metadata": {},
     "output_type": "execute_result"
    }
   ],
   "source": [
    "test0.neighbours"
   ]
  },
  {
   "cell_type": "code",
   "execution_count": 43,
   "metadata": {
    "collapsed": true
   },
   "outputs": [
    {
     "data": {
      "text/plain": [
       "[('uncertainty', 0.79770112037658691),\n",
       " ('imf', 0.75855249166488647),\n",
       " ('domino_effect', 0.74924719333648682),\n",
       " ('withdrawal_from', 0.74689728021621704),\n",
       " ('exit', 0.74064648151397705),\n",
       " ('shaken', 0.72794091701507568),\n",
       " ('british_government', 0.72382360696792603),\n",
       " ('scotland', 0.72118294239044189),\n",
       " ('northern_ireland', 0.71921467781066895),\n",
       " ('european_union', 0.71713531017303467),\n",
       " ('approval', 0.71508163213729858),\n",
       " ('economic_consequences', 0.71496623754501343),\n",
       " ('britain_votes', 0.71426737308502197),\n",
       " ('british_economy', 0.71115076541900635),\n",
       " ('eu', 0.70781600475311279),\n",
       " ('divisions', 0.70766079425811768),\n",
       " ('oecd', 0.7043384313583374),\n",
       " ('trading_partners', 0.70342528820037842),\n",
       " ('christine_lagarde', 0.70208543539047241),\n",
       " ('u_k', 0.69999325275421143),\n",
       " ('prompt', 0.69926691055297852),\n",
       " ('brexit_vote', 0.69872665405273438),\n",
       " ('across_europe', 0.69753187894821167),\n",
       " ('financial_services', 0.69523394107818604),\n",
       " ('constituent', 0.69287288188934326),\n",
       " ('unified', 0.69247525930404663),\n",
       " ('british_exit', 0.6919136643409729),\n",
       " ('george_soros', 0.69167220592498779),\n",
       " ('devaluation', 0.69156408309936523),\n",
       " ('member_states', 0.68958652019500732),\n",
       " ('populism', 0.68691772222518921),\n",
       " ('independence_party', 0.68227362632751465),\n",
       " ('long_run', 0.68209159374237061),\n",
       " ('bet', 0.68065893650054932),\n",
       " ('exports', 0.67921751737594604),\n",
       " ('june_23', 0.67641264200210571),\n",
       " ('has_weighed', 0.67623752355575562),\n",
       " ('remain_camp', 0.67476505041122437),\n",
       " ('decide_whether', 0.6737784743309021),\n",
       " ('populist', 0.67357456684112549),\n",
       " ('trigger', 0.66970860958099365),\n",
       " ('worse_off', 0.66837209463119507),\n",
       " ('david_cameron', 0.66542476415634155),\n",
       " ('geography', 0.6628187894821167),\n",
       " ('worries', 0.66244810819625854),\n",
       " ('financial_markets', 0.66145116090774536),\n",
       " ('eu_member', 0.65847712755203247),\n",
       " ('renegotiation', 0.65556210279464722),\n",
       " ('discourage', 0.65538537502288818),\n",
       " ('special_relationship', 0.65472370386123657)]"
      ]
     },
     "execution_count": 43,
     "metadata": {},
     "output_type": "execute_result"
    }
   ],
   "source": [
    "test1.neighbours"
   ]
  },
  {
   "cell_type": "code",
   "execution_count": 44,
   "metadata": {
    "collapsed": true
   },
   "outputs": [
    {
     "data": {
      "text/plain": [
       "[('uncertainty', 0.79328459501266479),\n",
       " ('exit', 0.737618088722229),\n",
       " ('britain_votes', 0.72361630201339722),\n",
       " ('european_union', 0.72177773714065552),\n",
       " ('scotland', 0.71929824352264404),\n",
       " ('eu', 0.7156836986541748),\n",
       " ('british_exit', 0.7150346040725708),\n",
       " ('northern_ireland', 0.71415871381759644),\n",
       " ('across_europe', 0.71061801910400391),\n",
       " ('brexit_vote', 0.70849412679672241),\n",
       " ('approval', 0.70814704895019531),\n",
       " ('u_k', 0.70009654760360718),\n",
       " ('trigger', 0.69920331239700317),\n",
       " ('renegotiation', 0.68940907716751099),\n",
       " ('remain_camp', 0.68036472797393799),\n",
       " ('divisions', 0.67667311429977417),\n",
       " ('bet', 0.676494300365448),\n",
       " ('financial_markets', 0.67227756977081299),\n",
       " ('predict', 0.66835939884185791),\n",
       " ('june_23', 0.66792124509811401),\n",
       " ('european_project', 0.66536986827850342),\n",
       " ('decide_whether', 0.66406595706939697),\n",
       " ('britain_leaves', 0.66237747669219971),\n",
       " ('geography', 0.6621396541595459),\n",
       " ('british_voters', 0.65997374057769775),\n",
       " ('britons', 0.65921348333358765),\n",
       " ('currency', 0.65866345167160034),\n",
       " ('exports', 0.65817511081695557),\n",
       " ('david_cameron', 0.65792489051818848),\n",
       " ('most_ambitious', 0.65785509347915649),\n",
       " ('unified', 0.65745306015014648),\n",
       " ('independence_party', 0.65639036893844604),\n",
       " ('better_off', 0.65370863676071167),\n",
       " ('bloc', 0.65247058868408203),\n",
       " ('nations', 0.65214335918426514),\n",
       " ('wrong_direction', 0.65064758062362671),\n",
       " ('united_kingdom', 0.64943265914916992),\n",
       " ('pound', 0.64633530378341675),\n",
       " ('british_pound', 0.64524173736572266),\n",
       " ('financial_services', 0.64318341016769409),\n",
       " ('referendum', 0.64190864562988281),\n",
       " ('prompt', 0.64044570922851562),\n",
       " ('formed', 0.63984620571136475),\n",
       " ('stability', 0.63860100507736206),\n",
       " ('populist', 0.63786482810974121),\n",
       " ('ireland', 0.63676148653030396),\n",
       " ('irreversible', 0.63460785150527954),\n",
       " ('uk', 0.63386428356170654),\n",
       " ('more_broadly', 0.63143628835678101),\n",
       " ('upcoming_vote', 0.63104480504989624)]"
      ]
     },
     "execution_count": 44,
     "metadata": {},
     "output_type": "execute_result"
    }
   ],
   "source": [
    "test2.neighbours"
   ]
  },
  {
   "cell_type": "code",
   "execution_count": 45,
   "metadata": {
    "collapsed": true
   },
   "outputs": [
    {
     "data": {
      "text/plain": [
       "[('uncertainty', 0.78646528720855713),\n",
       " ('exit', 0.73795187473297119),\n",
       " ('britain_votes', 0.72428667545318604),\n",
       " ('british_exit', 0.72125345468521118),\n",
       " ('across_europe', 0.71836638450622559),\n",
       " ('european_union', 0.71691733598709106),\n",
       " ('brexit_vote', 0.71175926923751831),\n",
       " ('northern_ireland', 0.71126216650009155),\n",
       " ('scotland', 0.70973289012908936),\n",
       " ('eu', 0.70773458480834961),\n",
       " ('divisions', 0.70404517650604248),\n",
       " ('financial_markets', 0.69600296020507812),\n",
       " ('u_k', 0.69588041305541992),\n",
       " ('approval', 0.69496262073516846),\n",
       " ('trigger', 0.69266366958618164),\n",
       " ('european_project', 0.68754637241363525),\n",
       " ('british_voters', 0.68196761608123779),\n",
       " ('renegotiation', 0.68175733089447021),\n",
       " ('remain_camp', 0.67623096704483032),\n",
       " ('prompt', 0.66507589817047119),\n",
       " ('bet', 0.6646496057510376),\n",
       " ('predict', 0.6620522141456604),\n",
       " ('britain_leaves', 0.65974605083465576),\n",
       " ('britons', 0.65619426965713501),\n",
       " ('more_broadly', 0.65547716617584229),\n",
       " ('currency', 0.65293574333190918),\n",
       " ('populist', 0.65200519561767578),\n",
       " ('better_off', 0.65174126625061035),\n",
       " ('david_cameron', 0.65051305294036865),\n",
       " ('ireland', 0.64943182468414307),\n",
       " ('most_ambitious', 0.64859968423843384),\n",
       " ('discourage', 0.64646852016448975),\n",
       " ('united_kingdom', 0.64628696441650391),\n",
       " ('geography', 0.64333409070968628),\n",
       " ('bloc', 0.64312863349914551),\n",
       " ('referendum', 0.64298802614212036),\n",
       " ('decide_whether', 0.64285087585449219),\n",
       " ('stability', 0.64206230640411377),\n",
       " ('pound', 0.64094763994216919),\n",
       " ('nations', 0.63858497142791748),\n",
       " ('british_pound', 0.63792073726654053),\n",
       " ('independence_party', 0.6373865008354187),\n",
       " ('financial_services', 0.63699978590011597),\n",
       " ('uk', 0.63663089275360107),\n",
       " ('bigger', 0.63533550500869751),\n",
       " ('elect', 0.63525253534317017),\n",
       " ('june_23', 0.63427734375),\n",
       " ('irreversible', 0.63386344909667969),\n",
       " ('analysts', 0.6304553747177124),\n",
       " ('exports', 0.62868130207061768)]"
      ]
     },
     "execution_count": 45,
     "metadata": {},
     "output_type": "execute_result"
    }
   ],
   "source": [
    "test3.neighbours"
   ]
  },
  {
   "cell_type": "code",
   "execution_count": 46,
   "metadata": {
    "collapsed": true
   },
   "outputs": [
    {
     "data": {
      "text/plain": [
       "[('uncertainty', 0.78646528720855713),\n",
       " ('exit', 0.73795187473297119),\n",
       " ('britain_votes', 0.72428667545318604),\n",
       " ('british_exit', 0.72125345468521118),\n",
       " ('across_europe', 0.71836638450622559),\n",
       " ('european_union', 0.71691733598709106),\n",
       " ('brexit_vote', 0.71175926923751831),\n",
       " ('northern_ireland', 0.71126216650009155),\n",
       " ('scotland', 0.70973289012908936),\n",
       " ('eu', 0.70773458480834961),\n",
       " ('divisions', 0.70404517650604248),\n",
       " ('financial_markets', 0.69600296020507812),\n",
       " ('u_k', 0.69588041305541992),\n",
       " ('approval', 0.69496262073516846),\n",
       " ('trigger', 0.69266366958618164),\n",
       " ('european_project', 0.68754637241363525),\n",
       " ('british_voters', 0.68196761608123779),\n",
       " ('renegotiation', 0.68175733089447021),\n",
       " ('remain_camp', 0.67623096704483032),\n",
       " ('prompt', 0.66507589817047119),\n",
       " ('bet', 0.6646496057510376),\n",
       " ('predict', 0.6620522141456604),\n",
       " ('britain_leaves', 0.65974605083465576),\n",
       " ('britons', 0.65619426965713501),\n",
       " ('more_broadly', 0.65547716617584229),\n",
       " ('currency', 0.65293574333190918),\n",
       " ('populist', 0.65200519561767578),\n",
       " ('better_off', 0.65174126625061035),\n",
       " ('david_cameron', 0.65051305294036865),\n",
       " ('ireland', 0.64943182468414307),\n",
       " ('most_ambitious', 0.64859968423843384),\n",
       " ('discourage', 0.64646852016448975),\n",
       " ('united_kingdom', 0.64628696441650391),\n",
       " ('geography', 0.64333409070968628),\n",
       " ('bloc', 0.64312863349914551),\n",
       " ('referendum', 0.64298802614212036),\n",
       " ('decide_whether', 0.64285087585449219),\n",
       " ('stability', 0.64206230640411377),\n",
       " ('pound', 0.64094763994216919),\n",
       " ('nations', 0.63858497142791748),\n",
       " ('british_pound', 0.63792073726654053),\n",
       " ('independence_party', 0.6373865008354187),\n",
       " ('financial_services', 0.63699978590011597),\n",
       " ('uk', 0.63663089275360107),\n",
       " ('bigger', 0.63533550500869751),\n",
       " ('elect', 0.63525253534317017),\n",
       " ('june_23', 0.63427734375),\n",
       " ('irreversible', 0.63386344909667969),\n",
       " ('analysts', 0.6304553747177124),\n",
       " ('exports', 0.62868130207061768)]"
      ]
     },
     "execution_count": 46,
     "metadata": {},
     "output_type": "execute_result"
    }
   ],
   "source": [
    "test4.neighbours"
   ]
  },
  {
   "cell_type": "code",
   "execution_count": 47,
   "metadata": {
    "collapsed": true
   },
   "outputs": [
    {
     "data": {
      "text/plain": [
       "[('uncertainty', 0.78646528720855713),\n",
       " ('exit', 0.73795187473297119),\n",
       " ('britain_votes', 0.72428667545318604),\n",
       " ('british_exit', 0.72125345468521118),\n",
       " ('across_europe', 0.71836638450622559),\n",
       " ('european_union', 0.71691733598709106),\n",
       " ('brexit_vote', 0.71175926923751831),\n",
       " ('northern_ireland', 0.71126216650009155),\n",
       " ('scotland', 0.70973289012908936),\n",
       " ('eu', 0.70773458480834961),\n",
       " ('divisions', 0.70404517650604248),\n",
       " ('financial_markets', 0.69600296020507812),\n",
       " ('u_k', 0.69588041305541992),\n",
       " ('approval', 0.69496262073516846),\n",
       " ('trigger', 0.69266366958618164),\n",
       " ('european_project', 0.68754637241363525),\n",
       " ('british_voters', 0.68196761608123779),\n",
       " ('renegotiation', 0.68175733089447021),\n",
       " ('remain_camp', 0.67623096704483032),\n",
       " ('prompt', 0.66507589817047119),\n",
       " ('bet', 0.6646496057510376),\n",
       " ('predict', 0.6620522141456604),\n",
       " ('britain_leaves', 0.65974605083465576),\n",
       " ('britons', 0.65619426965713501),\n",
       " ('more_broadly', 0.65547716617584229),\n",
       " ('currency', 0.65293574333190918),\n",
       " ('populist', 0.65200519561767578),\n",
       " ('better_off', 0.65174126625061035),\n",
       " ('david_cameron', 0.65051305294036865),\n",
       " ('ireland', 0.64943182468414307),\n",
       " ('most_ambitious', 0.64859968423843384),\n",
       " ('discourage', 0.64646852016448975),\n",
       " ('united_kingdom', 0.64628696441650391),\n",
       " ('geography', 0.64333409070968628),\n",
       " ('bloc', 0.64312863349914551),\n",
       " ('referendum', 0.64298802614212036),\n",
       " ('decide_whether', 0.64285087585449219),\n",
       " ('stability', 0.64206230640411377),\n",
       " ('pound', 0.64094763994216919),\n",
       " ('nations', 0.63858497142791748),\n",
       " ('british_pound', 0.63792073726654053),\n",
       " ('independence_party', 0.6373865008354187),\n",
       " ('financial_services', 0.63699978590011597),\n",
       " ('uk', 0.63663089275360107),\n",
       " ('bigger', 0.63533550500869751),\n",
       " ('elect', 0.63525253534317017),\n",
       " ('june_23', 0.63427734375),\n",
       " ('irreversible', 0.63386344909667969),\n",
       " ('analysts', 0.6304553747177124),\n",
       " ('exports', 0.62868130207061768)]"
      ]
     },
     "execution_count": 47,
     "metadata": {},
     "output_type": "execute_result"
    }
   ],
   "source": [
    "test5.neighbours"
   ]
  },
  {
   "cell_type": "code",
   "execution_count": 30,
   "metadata": {},
   "outputs": [],
   "source": [
    "top10_0 = set([pair[0] for pair in test0.neighbours])\n",
    "top10_1 = set([pair[0] for pair in test1.neighbours])\n",
    "top10_2 = set([pair[0] for pair in test2.neighbours])"
   ]
  },
  {
   "cell_type": "code",
   "execution_count": 23,
   "metadata": {},
   "outputs": [
    {
     "data": {
      "text/plain": [
       "{'debate', 'lead', 'thursday', 'win'}"
      ]
     },
     "execution_count": 23,
     "metadata": {},
     "output_type": "execute_result"
    }
   ],
   "source": [
    "top10_0 - top10_1"
   ]
  },
  {
   "cell_type": "code",
   "execution_count": 24,
   "metadata": {},
   "outputs": [
    {
     "data": {
      "text/plain": [
       "{'britons', 'tomorrow', 'u_k', 'united_kingdom'}"
      ]
     },
     "execution_count": 24,
     "metadata": {},
     "output_type": "execute_result"
    }
   ],
   "source": [
    "top10_1 - top10_0"
   ]
  },
  {
   "cell_type": "code",
   "execution_count": 25,
   "metadata": {},
   "outputs": [
    {
     "data": {
      "text/plain": [
       "{'ahead', 'independence', 'tomorrow'}"
      ]
     },
     "execution_count": 25,
     "metadata": {},
     "output_type": "execute_result"
    }
   ],
   "source": [
    "top10_1 - top10_2"
   ]
  },
  {
   "cell_type": "code",
   "execution_count": 26,
   "metadata": {},
   "outputs": [
    {
     "data": {
      "text/plain": [
       "{'debate', 'voted', 'win'}"
      ]
     },
     "execution_count": 26,
     "metadata": {},
     "output_type": "execute_result"
    }
   ],
   "source": [
    "top10_2 - top10_1"
   ]
  },
  {
   "cell_type": "markdown",
   "metadata": {},
   "source": [
    "Does not look like it's converged/overfit after only 3 epochs of training"
   ]
  },
  {
   "cell_type": "markdown",
   "metadata": {},
   "source": [
    "## testing converting articles to images"
   ]
  },
  {
   "cell_type": "code",
   "execution_count": 27,
   "metadata": {},
   "outputs": [],
   "source": [
    "img_dict = test.n_idx2vec"
   ]
  },
  {
   "cell_type": "code",
   "execution_count": 29,
   "metadata": {},
   "outputs": [],
   "source": [
    "img_dict[0] = np.array([0]*300)"
   ]
  },
  {
   "cell_type": "code",
   "execution_count": 61,
   "metadata": {},
   "outputs": [],
   "source": [
    "with open('/home/paperspace/projects/news_exploration/Data/all-the-news/' + 'articles_1_0_preprocessed.pickle', 'rb') as handle:\n",
    "    articles = pickle.load(handle)"
   ]
  },
  {
   "cell_type": "code",
   "execution_count": 62,
   "metadata": {},
   "outputs": [],
   "source": [
    "article1 = articles[1]"
   ]
  },
  {
   "cell_type": "code",
   "execution_count": 63,
   "metadata": {},
   "outputs": [],
   "source": [
    "def return_idx(word):\n",
    "    if word in word2idx_0.keys():\n",
    "        return(word2idx_0[word])\n",
    "    else:\n",
    "        return(0)"
   ]
  },
  {
   "cell_type": "code",
   "execution_count": 64,
   "metadata": {},
   "outputs": [],
   "source": [
    "article1_tok = [return_idx(word) for word in article1]"
   ]
  },
  {
   "cell_type": "code",
   "execution_count": 65,
   "metadata": {},
   "outputs": [],
   "source": [
    "article1_img = np.array([img_dict[tok] for tok in article1_tok])"
   ]
  },
  {
   "cell_type": "code",
   "execution_count": 66,
   "metadata": {},
   "outputs": [],
   "source": [
    "min_val = min([min(elem) for elem in article1_img])"
   ]
  },
  {
   "cell_type": "code",
   "execution_count": 67,
   "metadata": {},
   "outputs": [],
   "source": [
    "article1_img_shift = article1_img - min_val"
   ]
  },
  {
   "cell_type": "code",
   "execution_count": 69,
   "metadata": {},
   "outputs": [],
   "source": [
    "l2_norm = np.sqrt((article1_img_shift*article1_img_shift).sum(axis = 1)).reshape(703,1)"
   ]
  },
  {
   "cell_type": "code",
   "execution_count": 70,
   "metadata": {},
   "outputs": [],
   "source": [
    "article1_img_shift_norm = article1_img_shift/l2_norm"
   ]
  },
  {
   "cell_type": "code",
   "execution_count": 71,
   "metadata": {},
   "outputs": [],
   "source": [
    "max_val = max([max(tok) for tok in article1_img_shift_norm])"
   ]
  },
  {
   "cell_type": "code",
   "execution_count": 72,
   "metadata": {},
   "outputs": [],
   "source": [
    "article1_img_shift_norm_scaled = article1_img_shift_norm/max_val"
   ]
  },
  {
   "cell_type": "code",
   "execution_count": 73,
   "metadata": {},
   "outputs": [],
   "source": [
    "import cv2\n",
    "heatmap = cv2.applyColorMap(np.uint8(255*article1_img_shift_norm_scaled), cv2.COLORMAP_JET)"
   ]
  },
  {
   "cell_type": "code",
   "execution_count": 74,
   "metadata": {},
   "outputs": [
    {
     "data": {
      "text/plain": [
       "True"
      ]
     },
     "execution_count": 74,
     "metadata": {},
     "output_type": "execute_result"
    }
   ],
   "source": [
    "cv2.imwrite(data_dir_0+\"article_1.jpg\", np.uint8(255 * heatmap))"
   ]
  },
  {
   "cell_type": "code",
   "execution_count": null,
   "metadata": {},
   "outputs": [],
   "source": []
  }
 ],
 "metadata": {
  "kernelspec": {
   "display_name": "Python 3",
   "language": "python",
   "name": "python3"
  },
  "language_info": {
   "codemirror_mode": {
    "name": "ipython",
    "version": 3
   },
   "file_extension": ".py",
   "mimetype": "text/x-python",
   "name": "python",
   "nbconvert_exporter": "python",
   "pygments_lexer": "ipython3",
   "version": "3.6.4"
  }
 },
 "nbformat": 4,
 "nbformat_minor": 2
}
